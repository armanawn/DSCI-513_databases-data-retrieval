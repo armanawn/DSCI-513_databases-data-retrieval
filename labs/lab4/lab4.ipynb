{
 "cells": [
  {
   "cell_type": "markdown",
   "metadata": {},
   "source": [
    "<img src=\"img/dsci513_header2.png\" width=\"600\">"
   ]
  },
  {
   "cell_type": "markdown",
   "metadata": {
    "tags": []
   },
   "source": [
    "# Lab 4: MongoDB query language"
   ]
  },
  {
   "cell_type": "markdown",
   "metadata": {},
   "source": [
    "## Instructions\n",
    "---\n",
    "rubric={mechanics:2}"
   ]
  },
  {
   "cell_type": "markdown",
   "metadata": {},
   "source": [
    "- Follow the [general lab instructions](https://ubc-mds.github.io/resources_pages/general_lab_instructions/)\n",
    "- Make sure to upload a PDF version of your lab notebook to Gradescope, in addition to the `.ipynb` file.\n",
    "- Add a link to your GitHub repository here:"
   ]
  },
  {
   "cell_type": "markdown",
   "metadata": {},
   "source": [
    "## Getting set up\n",
    "---"
   ]
  },
  {
   "cell_type": "code",
   "execution_count": null,
   "metadata": {},
   "outputs": [],
   "source": [
    "from pymongo import MongoClient\n",
    "import json\n",
    "\n",
    "with open('data/credentials_mongodb.json') as f:\n",
    "    login = json.load(f)\n",
    "\n",
    "client = MongoClient(**login)"
   ]
  },
  {
   "cell_type": "markdown",
   "metadata": {
    "tags": []
   },
   "source": [
    "## Exercise 1: Getting to know your MongoDB databases\n",
    "---"
   ]
  },
  {
   "cell_type": "markdown",
   "metadata": {
    "tags": []
   },
   "source": [
    "### 1.1\n",
    "\n",
    "rubric={accuracy:1}"
   ]
  },
  {
   "cell_type": "markdown",
   "metadata": {},
   "source": [
    "List the databases that exist on your MongoDB Atlas cluster after loading sample databases. You can do this either by checking out the databases using Compass or by using `pymongo`'s `.list_database_names()` method."
   ]
  },
  {
   "cell_type": "code",
   "execution_count": null,
   "metadata": {
    "tags": []
   },
   "outputs": [],
   "source": [
    "..."
   ]
  },
  {
   "cell_type": "markdown",
   "metadata": {
    "tags": []
   },
   "source": [
    "### 1.2\n",
    "\n",
    "rubric={accuracy:1}"
   ]
  },
  {
   "attachments": {},
   "cell_type": "markdown",
   "metadata": {},
   "source": [
    "List the collections stored in the `sample_mflix` and `sample_analytics` databases. You can do this either by checking out the databases using Compass or by using `pymongo`'s `.list_collection_names()` method."
   ]
  },
  {
   "cell_type": "code",
   "execution_count": null,
   "metadata": {
    "tags": []
   },
   "outputs": [],
   "source": [
    "..."
   ]
  },
  {
   "cell_type": "markdown",
   "metadata": {
    "tags": []
   },
   "source": [
    "### 1.3\n",
    "\n",
    "rubric={accuracy:2}"
   ]
  },
  {
   "attachments": {},
   "cell_type": "markdown",
   "metadata": {},
   "source": [
    "We would like to create a summary report to get the number of documents in each collection of each database on our cluster. Write a python loop that produces an output similar to the following:\n",
    "\n",
    "```\n",
    "Database: sample_mflix\n",
    "(collection, n_docs) =  ('comments', 41079)\n",
    "(collection, n_docs) =  ('movies', 23530)\n",
    "(collection, n_docs) =  ('theaters', 1564)\n",
    "(collection, n_docs) =  ('users', 185)\n",
    "(collection, n_docs) =  ('sessions', 1)\n",
    "\n",
    "Database: sample_analytics\n",
    "(collection, n_docs) =  ('transactions', 1746)\n",
    "(collection, n_docs) =  ('accounts', 1746)\n",
    "(collection, n_docs) =  ('customers', 500)\n",
    ".\n",
    ".\n",
    ".\n",
    "```\n",
    "\n",
    "In previous questions, you've been introduced to the two methods of `pymongo` which are used to return database and collection names. Moreover, you can use the `.count_documents(filter={}))` method to count all documents in each collection.\n",
    "\n",
    "**Note:** Skip `admin` and `local` databases in your loop."
   ]
  },
  {
   "cell_type": "code",
   "execution_count": null,
   "metadata": {
    "tags": []
   },
   "outputs": [],
   "source": [
    "..."
   ]
  },
  {
   "cell_type": "markdown",
   "metadata": {
    "tags": []
   },
   "source": [
    "### 1.4\n",
    "\n",
    "rubric={accuracy:1}"
   ]
  },
  {
   "cell_type": "markdown",
   "metadata": {},
   "source": [
    "The _Schema_ tab of the Compass application provides a nice schema analyzer tool that helps to quickly obtain summary information about collections in a database both visually and in text format.\n",
    "\n",
    "Suppose that we would like to find out how high-rated movies/TV series on _metacritic_ are rated on IMDB. Use the schema analyzer tool to find the distribution of the `imdb.rating` field for movies/TV series in the `sample_mflix` database that have a `metacritic` rating of greater than 90. Paste a screenshot of the distribution that you find here.\n",
    "\n",
    "**Hint:** There are 111 documents with a `metacritic` rating of greater than 90."
   ]
  },
  {
   "cell_type": "markdown",
   "metadata": {
    "tags": []
   },
   "source": [
    "_Your answer goes here_"
   ]
  },
  {
   "cell_type": "markdown",
   "metadata": {
    "tags": []
   },
   "source": [
    "## Exercise 2: Basic MongoDB queries\n",
    "---"
   ]
  },
  {
   "cell_type": "markdown",
   "metadata": {
    "tags": []
   },
   "source": [
    "### 2.1\n",
    "\n",
    "rubric={accuracy:1}"
   ]
  },
  {
   "cell_type": "markdown",
   "metadata": {},
   "source": [
    "Retrieve one (random) document associated with some movie/TV series produced in 2015.\n",
    "\n",
    "You can use `.find_one()` method to do this, or use `.find()` but limit your results to 1 document."
   ]
  },
  {
   "cell_type": "code",
   "execution_count": null,
   "metadata": {},
   "outputs": [],
   "source": [
    "..."
   ]
  },
  {
   "cell_type": "markdown",
   "metadata": {
    "tags": []
   },
   "source": [
    "### 2.2\n",
    "\n",
    "rubric={accuracy:1}"
   ]
  },
  {
   "cell_type": "markdown",
   "metadata": {},
   "source": [
    "Retrieve all TV series produced in 1995.\n",
    "\n",
    "> **Hint:** Inspect possible values for the `type` field."
   ]
  },
  {
   "cell_type": "code",
   "execution_count": null,
   "metadata": {},
   "outputs": [],
   "source": [
    "..."
   ]
  },
  {
   "cell_type": "markdown",
   "metadata": {
    "tags": []
   },
   "source": [
    "### 2.3\n",
    "\n",
    "rubric={accuracy:2}"
   ]
  },
  {
   "cell_type": "markdown",
   "metadata": {},
   "source": [
    "Retrieve the title and cast of movies/TV series produced in 2010, but limit your results to 5 documents.\n",
    "\n",
    "> **Note:** Don't forget to exclude the `_id` field from your returned documents.\n",
    "\n",
    "> **Note:** The exact returned documents returned by `pymongo` might be different in different sessions and on different computers. This is perfectly fine."
   ]
  },
  {
   "cell_type": "code",
   "execution_count": null,
   "metadata": {},
   "outputs": [],
   "source": [
    "..."
   ]
  },
  {
   "cell_type": "markdown",
   "metadata": {
    "tags": []
   },
   "source": [
    "### 2.4\n",
    "\n",
    "rubric={accuracy:2}"
   ]
  },
  {
   "cell_type": "markdown",
   "metadata": {},
   "source": [
    "Retrieve the top 15 movies produced in 2010 that have the longest duration. Exclude TV series from your results. The returned documents should only contain the `title` and `runtime` fields (exclude the `_id` field).\n",
    "\n",
    "> **Note:** It's ok if your results contain duplicate movies."
   ]
  },
  {
   "cell_type": "code",
   "execution_count": null,
   "metadata": {},
   "outputs": [],
   "source": [
    "..."
   ]
  },
  {
   "cell_type": "markdown",
   "metadata": {
    "tags": []
   },
   "source": [
    "### 2.5\n",
    "\n",
    "rubric={accuracy:2}"
   ]
  },
  {
   "cell_type": "markdown",
   "metadata": {},
   "source": [
    "For each year between 2010 and 2015 (inclusive), return the number of movies/TV series with a metacritic rating of exactly 90. Your results should look like this:\n",
    "\n",
    "```\n",
    "2010: 2\n",
    "2011: 2\n",
    "2012: 1\n",
    "2013: 2\n",
    "2014: 1\n",
    "2015: 3\n",
    "```"
   ]
  },
  {
   "cell_type": "code",
   "execution_count": null,
   "metadata": {},
   "outputs": [],
   "source": [
    "..."
   ]
  },
  {
   "cell_type": "markdown",
   "metadata": {
    "tags": []
   },
   "source": [
    "### 2.6\n",
    "\n",
    "rubric={accuracy:2}"
   ]
  },
  {
   "cell_type": "markdown",
   "metadata": {},
   "source": [
    "Retrieve the title and runtime of the 10 shortest movies in the `movies` collection.\n",
    "\n",
    "For this exercise, you need to make sure that the field `runtime` exists in the returned documents, otherwise by default those documents would appear first which don't have a `runtime` field at all!\n",
    "\n",
    "> **Hint:** You need the `$exists` operator (see [here](https://docs.mongodb.com/manual/reference/operator/query/exists/) for help)."
   ]
  },
  {
   "cell_type": "code",
   "execution_count": null,
   "metadata": {},
   "outputs": [],
   "source": [
    "..."
   ]
  },
  {
   "cell_type": "markdown",
   "metadata": {
    "tags": []
   },
   "source": [
    "### 2.7\n",
    "\n",
    "rubric={accuracy:2}"
   ]
  },
  {
   "cell_type": "markdown",
   "metadata": {},
   "source": [
    "Retrieve documents for movies/TV series whose title contains two digits at the end, separated by a space (e.g. \"Apollo 13\").\n",
    "\n",
    "- Your results should only contain the `title` and `year` fields\n",
    "- Sort the documents first by production year in descending order, and then alphabetically by title in ascending order.\n",
    "- Limit your results to 15 documents.\n",
    "\n",
    "> **Note:** It's ok if your results contain duplicates."
   ]
  },
  {
   "cell_type": "code",
   "execution_count": null,
   "metadata": {},
   "outputs": [],
   "source": [
    "..."
   ]
  },
  {
   "cell_type": "markdown",
   "metadata": {
    "tags": []
   },
   "source": [
    "## Exercise 3: Conditionals, embedded documents & arrays\n",
    "---"
   ]
  },
  {
   "cell_type": "markdown",
   "metadata": {
    "tags": []
   },
   "source": [
    "### 3.1\n",
    "\n",
    "rubric={accuracy:2}"
   ]
  },
  {
   "cell_type": "markdown",
   "metadata": {},
   "source": [
    "Retrieve the title, production year, and number of awards of all movies that\n",
    "\n",
    "- have been produced between 1950 and 2000 (inclusive)\n",
    "- have an IMDB rating of 8.5 or better\n",
    "- won at least 30 awards.\n",
    "\n",
    "Sort the results by production year in descending order."
   ]
  },
  {
   "cell_type": "code",
   "execution_count": null,
   "metadata": {},
   "outputs": [],
   "source": [
    "..."
   ]
  },
  {
   "cell_type": "markdown",
   "metadata": {
    "tags": []
   },
   "source": [
    "### 3.2\n",
    "\n",
    "rubric={accuracy:2}"
   ]
  },
  {
   "cell_type": "markdown",
   "metadata": {},
   "source": [
    "Find the top 15 highest-rated movies according to IMDB for movies that have at least 100,000 votes. Your returned documents should only contain the `title`, `year`, and `imdb.rating` fields.\n",
    "\n",
    "> **Hint:** Be careful about documents which have a blank space in their `imdb.rating` field!\n",
    "\n",
    "> **Note:** It's ok if your results contain duplicates. Return 15 documents in any case."
   ]
  },
  {
   "cell_type": "code",
   "execution_count": null,
   "metadata": {},
   "outputs": [],
   "source": [
    "..."
   ]
  },
  {
   "cell_type": "markdown",
   "metadata": {
    "tags": []
   },
   "source": [
    "### 3.3\n",
    "\n",
    "rubric={accuracy:2}"
   ]
  },
  {
   "cell_type": "markdown",
   "metadata": {},
   "source": [
    "There is one **thriller** movie in the `movies` collection which has a single digit within a word in its title (e.g. \"one2one\"). Return the document associated with that movie. Only include the `title`, `year`, `genres`, and `cast` fields."
   ]
  },
  {
   "cell_type": "code",
   "execution_count": null,
   "metadata": {},
   "outputs": [],
   "source": [
    "..."
   ]
  },
  {
   "cell_type": "markdown",
   "metadata": {
    "tags": []
   },
   "source": [
    "### 3.4\n",
    "\n",
    "rubric={accuracy:1}"
   ]
  },
  {
   "cell_type": "markdown",
   "metadata": {},
   "source": [
    "Retrieve the title, production year, and IMDB rating of movies in which both **Morgan Freeman** and **Clint Eastwood** played a role (among other actors in those movies). Sort the returned documents by year in descending order."
   ]
  },
  {
   "cell_type": "code",
   "execution_count": null,
   "metadata": {},
   "outputs": [],
   "source": [
    "..."
   ]
  },
  {
   "cell_type": "markdown",
   "metadata": {
    "tags": []
   },
   "source": [
    "### 3.5\n",
    "\n",
    "rubric={accuracy:3}"
   ]
  },
  {
   "cell_type": "markdown",
   "metadata": {},
   "source": [
    "Retrieve documents associated with movies which:\n",
    "\n",
    "- are available in both German and French (among other languages), but not in English,\n",
    "- are either rated above 8 according to IMDB, or above 7.5 according to the critic ratings of [Rotten Tomatoes](https://www.rottentomatoes.com/) (inspect the `tomatoes` field),\n",
    "- have at least 50 Rotten Tomatoes critic reviews.\n",
    "\n",
    "The returned documents should include the title, year, IMDB rating, Rotten Tomatoes critic rating and country of production fields. Sort the results by IMDB rating in descending order.\n",
    "\n",
    "**Note:** Duplicates in the results are ok."
   ]
  },
  {
   "cell_type": "code",
   "execution_count": null,
   "metadata": {},
   "outputs": [],
   "source": [
    "..."
   ]
  },
  {
   "cell_type": "markdown",
   "metadata": {
    "tags": []
   },
   "source": [
    "### 3.6\n",
    "\n",
    "rubric={accuracy:2}"
   ]
  },
  {
   "cell_type": "markdown",
   "metadata": {},
   "source": [
    "Find the title and production year of the top 20 award-winning movies which have **not** been produced in USA, Canada, UK, or Australia.\n",
    "\n",
    "**Note:** Duplicates are ok. Return 20 documents in any case."
   ]
  },
  {
   "cell_type": "code",
   "execution_count": null,
   "metadata": {},
   "outputs": [],
   "source": [
    "..."
   ]
  },
  {
   "cell_type": "markdown",
   "metadata": {
    "tags": []
   },
   "source": [
    "## Exercise 4: Aggregation pipelines\n",
    "---"
   ]
  },
  {
   "cell_type": "markdown",
   "metadata": {},
   "source": [
    "For this exercise, my suggestion is for you to create your pipelines in Compass. Once you're happy with the results, you can use the \"Export pipeline code to language\" button (right next to the green SAVE button) to get the Python code for your pipeline, and use it here in the lab's Jupyter Notebook. One good thing about constructing pipelines in Compass is that you can also see intermediate results after each stage.\n",
    "\n",
    "If your comfortable with `pymongo`, feel free to write your pipelines directly here."
   ]
  },
  {
   "cell_type": "markdown",
   "metadata": {
    "tags": []
   },
   "source": [
    "### 4.1\n",
    "\n",
    "rubric={accuracy:2}"
   ]
  },
  {
   "cell_type": "markdown",
   "metadata": {},
   "source": [
    "Let's start by creating a simple pipeline that does a similar job as Exercise [3.6](#3.6):\n",
    "\n",
    "> Find the title and production year of the top 20 award-winning movies which have **not** been produced in USA, Canada, UK, or Australia.\n",
    "\n",
    "In addition, promote the `imdb.rating` subfield to show up as an independent field named `imdbRating` in the resulting documents.\n",
    "\n",
    "Don't forget to check if you get the same movies as in Exercise [3.6](#3.6)!"
   ]
  },
  {
   "cell_type": "code",
   "execution_count": null,
   "metadata": {},
   "outputs": [],
   "source": [
    "..."
   ]
  },
  {
   "cell_type": "markdown",
   "metadata": {
    "tags": []
   },
   "source": [
    "### 4.2\n",
    "\n",
    "rubric={reasoning:1}"
   ]
  },
  {
   "cell_type": "markdown",
   "metadata": {},
   "source": [
    "Does the order of stages in the previous question matter? Provide an example and explain why."
   ]
  },
  {
   "cell_type": "markdown",
   "metadata": {
    "tags": []
   },
   "source": [
    "_Your answer goes here_"
   ]
  },
  {
   "cell_type": "markdown",
   "metadata": {
    "tags": []
   },
   "source": [
    "### 4.3\n",
    "\n",
    "rubric={accuracy:2}"
   ]
  },
  {
   "cell_type": "markdown",
   "metadata": {},
   "source": [
    "Count the number of movies (not TV series) produced in the USA per year, in and after the year 2000. Sort your results by year in ascending order.\n",
    "\n",
    "Your results should look like this:\n",
    "\n",
    "```\n",
    "[{'_id': 2000, 'num_of_movies': 341},\n",
    " {'_id': 2001, 'num_of_movies': 318},\n",
    " {'_id': 2002, 'num_of_movies': 337},\n",
    ".\n",
    ".\n",
    ".\n",
    "]\n",
    "```"
   ]
  },
  {
   "cell_type": "code",
   "execution_count": null,
   "metadata": {},
   "outputs": [],
   "source": [
    "..."
   ]
  },
  {
   "cell_type": "markdown",
   "metadata": {
    "tags": []
   },
   "source": [
    "### 4.4\n",
    "\n",
    "rubric={accuracy:1}"
   ]
  },
  {
   "cell_type": "markdown",
   "metadata": {},
   "source": [
    "Can you make the output of the previous exercise look like this?\n",
    "\n",
    "```\n",
    "[{'num_of_movies': 341, 'prod_year': 2000},\n",
    " {'num_of_movies': 318, 'prod_year': 2001},\n",
    " {'num_of_movies': 337, 'prod_year': 2002},\n",
    ".\n",
    ".\n",
    ".\n",
    "]\n",
    "```\n",
    "\n",
    "**Note:** The order in which different fields appear in the results does not matter."
   ]
  },
  {
   "cell_type": "code",
   "execution_count": null,
   "metadata": {},
   "outputs": [],
   "source": [
    "..."
   ]
  },
  {
   "cell_type": "markdown",
   "metadata": {
    "tags": []
   },
   "source": [
    "### 4.5\n",
    "\n",
    "rubric={accuracy:2}"
   ]
  },
  {
   "cell_type": "markdown",
   "metadata": {},
   "source": [
    "Create an aggregation pipeline that lists the top 10 most common movie languages, along with the count of movies for each language. Sort your results based on the count in descending order.\n",
    "\n",
    "Your results should look like this:\n",
    "\n",
    "```\n",
    "[{'_id': 'English', 'num_of_movies': 16048},\n",
    " {'_id': 'French', 'num_of_movies': 2800},\n",
    " {'_id': 'Spanish', 'num_of_movies': 1787},\n",
    " .\n",
    " .\n",
    " .\n",
    " ]\n",
    " ```\n",
    " \n",
    "> **Hint:** Languages are listed in an array, so they need special treatment before grouping."
   ]
  },
  {
   "cell_type": "code",
   "execution_count": null,
   "metadata": {},
   "outputs": [],
   "source": [
    "..."
   ]
  },
  {
   "cell_type": "markdown",
   "metadata": {
    "tags": []
   },
   "source": [
    "### 4.6\n",
    "\n",
    "rubric={accuracy:3}"
   ]
  },
  {
   "cell_type": "markdown",
   "metadata": {},
   "source": [
    "Create an aggregation pipeline that lists the top 15 busiest directors along with the number of movies they have directed. Your pipeline should also return the average IMDB rating of the movies directed by each director, **rounded to 1 decimal digit**.\n",
    "\n",
    "Your results should look like this:\n",
    "\n",
    "```\n",
    "[{'_id': 'Woody Allen', 'num_of_movies': 40, 'avg_imdb_rating': 7.2},\n",
    " {'_id': 'John Ford', 'num_of_movies': 35, 'avg_imdb_rating': 7.2},\n",
    " {'_id': 'Takashi Miike', 'num_of_movies': 34, 'avg_imdb_rating': 6.9},\n",
    " .\n",
    " .\n",
    " .\n",
    " ]\n",
    "```\n",
    " \n",
    "> **Hint:** Directors are listed in an array, so they need special treatment before grouping.\n",
    "\n",
    "> **Hint:** You can use the `$round` operator in a projection stage to round the average IMDB rating values (see [here](https://docs.mongodb.com/manual/reference/operator/aggregation/round/) for help)."
   ]
  },
  {
   "cell_type": "code",
   "execution_count": null,
   "metadata": {},
   "outputs": [],
   "source": [
    "..."
   ]
  },
  {
   "cell_type": "markdown",
   "metadata": {
    "tags": []
   },
   "source": [
    "## Exercise 5: But I only speak SQL!\n",
    "---"
   ]
  },
  {
   "cell_type": "markdown",
   "metadata": {},
   "source": [
    "Recently, a software engineer has joined your team who is well-seasoned in SQL, but has never used MongoDB. Your supervisor knows that you've had some experience with MongoDB in the MDS program, so she asks you to help translate the SQL queries written by the new software engineer to MongoDB queries. Your MongoDB queries will be used in a NoSQL-based application developed by your company.\n",
    "\n",
    "In the following questions, imagine that each document is a row in a table, and each field represents a column. Also, imagine that in our hypothetical table, documents with array fields appear as multiple rows, each row having one of the array elements in that particular array field.\n",
    "\n",
    "Try to translate each SQL query to its equivalent MongoDB query as if your collection was a table (i.e. relation) in a relational database."
   ]
  },
  {
   "cell_type": "markdown",
   "metadata": {
    "tags": []
   },
   "source": [
    "### 5.1\n",
    "\n",
    "rubric={accuracy:3}"
   ]
  },
  {
   "cell_type": "markdown",
   "metadata": {},
   "source": [
    "```sql\n",
    "SELECT\n",
    "    countries, COUNT(*) AS count_movies\n",
    "FROM\n",
    "    movies\n",
    "WHERE\n",
    "    imdb_rating > 8\n",
    "GROUP BY\n",
    "    countries\n",
    "ORDER BY\n",
    "    count_movies DESC\n",
    "LIMIT\n",
    "    20\n",
    "```"
   ]
  },
  {
   "cell_type": "code",
   "execution_count": null,
   "metadata": {},
   "outputs": [],
   "source": [
    "..."
   ]
  },
  {
   "cell_type": "markdown",
   "metadata": {
    "tags": []
   },
   "source": [
    "### 5.2\n",
    "\n",
    "rubric={accuracy:2}"
   ]
  },
  {
   "cell_type": "markdown",
   "metadata": {},
   "source": [
    "```sql\n",
    "SELECT\n",
    "    directors, MAX(awards_wins) AS max_awards_wins\n",
    "FROM\n",
    "    movies\n",
    "GROUP BY\n",
    "    directors\n",
    "ORDER BY\n",
    "    max_awards_wins DESC\n",
    "LIMIT\n",
    "    10\n",
    "```"
   ]
  },
  {
   "cell_type": "code",
   "execution_count": null,
   "metadata": {},
   "outputs": [],
   "source": [
    "..."
   ]
  },
  {
   "cell_type": "markdown",
   "metadata": {
    "tags": []
   },
   "source": [
    "### 5.3\n",
    "\n",
    "Well, I don't feel good about making you think of NoSQL databases in terms of the relations, rows, and columns. But I really want to make it up to you, so I'm hoping you'll find this one funny:"
   ]
  },
  {
   "cell_type": "markdown",
   "metadata": {},
   "source": [
    "<img src=\"img/nosql_cartoon.jpeg\" width=\"600\">\n",
    "\n",
    "([image source](https://www.deviantart.com/harshadpd/art/Relational-Issues-719533744))"
   ]
  }
 ],
 "metadata": {
  "kernelspec": {
   "display_name": "Python 3",
   "language": "python",
   "name": "python3"
  },
  "language_info": {
   "codemirror_mode": {
    "name": "ipython",
    "version": 3
   },
   "file_extension": ".py",
   "mimetype": "text/x-python",
   "name": "python",
   "nbconvert_exporter": "python",
   "pygments_lexer": "ipython3",
   "version": "3.10.9 (main, Dec 15 2022, 17:11:09) [Clang 14.0.0 (clang-1400.0.29.202)]"
  },
  "toc": {
   "base_numbering": 1,
   "nav_menu": {},
   "number_sections": false,
   "sideBar": true,
   "skip_h1_title": true,
   "title_cell": "Lecture Outline",
   "title_sidebar": "Contents",
   "toc_cell": true,
   "toc_position": {},
   "toc_section_display": true,
   "toc_window_display": true
  },
  "toc-autonumbering": false,
  "toc-showcode": false,
  "toc-showmarkdowntxt": false,
  "toc-showtags": false,
  "vscode": {
   "interpreter": {
    "hash": "b0fa6594d8f4cbf19f97940f81e996739fb7646882a419484c72d19e05852a7e"
   }
  }
 },
 "nbformat": 4,
 "nbformat_minor": 4
}
