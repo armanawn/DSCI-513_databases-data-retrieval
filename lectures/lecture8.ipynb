{
 "cells": [
  {
   "cell_type": "markdown",
   "id": "e7e5b275-7b0a-4527-95f3-8dff0982b495",
   "metadata": {},
   "source": [
    "<img src=\"img/dsci513_header2.png\" width=\"600\">"
   ]
  },
  {
   "cell_type": "markdown",
   "id": "35f359f6-6f6b-4ca1-9987-daa6fa757c84",
   "metadata": {},
   "source": [
    "# Lecture 8: Advanced queries in MongoDB"
   ]
  },
  {
   "cell_type": "markdown",
   "id": "6f73cce4-b81b-4f10-b8bf-c3d1409ce933",
   "metadata": {},
   "source": [
    "## Lecture outline\n",
    "\n",
    "- Operators in MongoDB\n",
    "- Query conditionals\n",
    "- Querying arrays and sub-documents\n",
    "- Aggregation pipelines"
   ]
  },
  {
   "cell_type": "code",
   "execution_count": 1,
   "id": "bd88d46c-530b-4e9a-a8ea-dc88696da74a",
   "metadata": {},
   "outputs": [],
   "source": [
    "from pymongo import MongoClient\n",
    "import json\n",
    "\n",
    "with open('data/credentials_mongodb.json') as f:\n",
    "    login = json.load(f)\n",
    "\n",
    "client = MongoClient(**login)"
   ]
  },
  {
   "attachments": {},
   "cell_type": "markdown",
   "id": "f4e419ff",
   "metadata": {},
   "source": [
    "<br><br><br>"
   ]
  },
  {
   "cell_type": "markdown",
   "id": "2cf52f0e-d0c2-43c0-bb4f-bb741e6603fb",
   "metadata": {},
   "source": [
    "## `$` and operators in MongoDB"
   ]
  },
  {
   "attachments": {},
   "cell_type": "markdown",
   "id": "9e66ead5-fb83-4d51-8ed6-b344107ea9db",
   "metadata": {},
   "source": [
    "In MongoDB, operators are denoted with a dollar sign `$`. For example, the `$sum` operator which is used in aggregation pipelines, or comparison operators such as `$gte` which is equivalent to `>=` in SQL or Python."
   ]
  },
  {
   "attachments": {},
   "cell_type": "markdown",
   "id": "f4e419ff",
   "metadata": {},
   "source": [
    "<br><br><br>"
   ]
  },
  {
   "attachments": {},
   "cell_type": "markdown",
   "id": "868b3694",
   "metadata": {},
   "source": [
    "**Note that:**\n",
    "\n",
    "The dollar sign `$` also has another use case: if a field needs to appear as a value, we need to reference that using a `$`. For example, I'll show you later in this lecture that if you want to rename a field in the output, you can have something like this in the projection stage of a pipeline:\n",
    "\n",
    "```\n",
    "{'$project': {'duration': '$runtime'}}\n",
    "```"
   ]
  },
  {
   "cell_type": "markdown",
   "id": "20b42fcf",
   "metadata": {},
   "source": [
    "Had I used `{'duration': 'runtime'}`, the `runtime` would have been interpreted as a literal string, not the actual values in the `runtime` field. You'll also see this used in the `_id` field of a `$group` stage for a similar reason."
   ]
  },
  {
   "cell_type": "markdown",
   "id": "7e2a80d3-6119-4830-a98f-378230d451fc",
   "metadata": {},
   "source": [
    "## Comparison operators"
   ]
  },
  {
   "cell_type": "markdown",
   "id": "37bf1915-e597-4a87-9577-a4bcce6d02e2",
   "metadata": {},
   "source": [
    "### `$gt`, `$gte`, `$lt`, `$lte`"
   ]
  },
  {
   "cell_type": "markdown",
   "id": "43a5c026-bad8-4e7f-a237-7462cbf92ee3",
   "metadata": {},
   "source": [
    "These operators have the same meaning as `>`, `>=`, `<`, and `<=` in SQL or Python. For example, while a filter `{'runtime': 200}` would return documents whose runtime is exactly 200 minutes, `{'runtime': {'$gte': 200}}` would return documents whose runtime is greater that 200 minutes."
   ]
  },
  {
   "attachments": {},
   "cell_type": "markdown",
   "id": "f4e419ff",
   "metadata": {},
   "source": [
    "<br><br><br>"
   ]
  },
  {
   "cell_type": "markdown",
   "id": "df83d286-a70e-477b-a323-80062ca91c51",
   "metadata": {},
   "source": [
    "**Example:** Return the title, runtime, and production year of 5 movies with a runtime of 200 minutes or greater."
   ]
  },
  {
   "cell_type": "code",
   "execution_count": 2,
   "id": "d4639955-4594-449f-a565-bf4e3b9e6e00",
   "metadata": {},
   "outputs": [
    {
     "data": {
      "text/plain": [
       "[{'runtime': 399, 'title': 'Les vampires', 'year': 1915},\n",
       " {'runtime': 240, 'title': 'Napoleon', 'year': 1927},\n",
       " {'runtime': 281, 'title': 'Les Misèrables', 'year': 1934},\n",
       " {'runtime': 245, 'title': 'Flash Gordon', 'year': 1936},\n",
       " {'runtime': 238, 'title': 'Gone with the Wind', 'year': 1939}]"
      ]
     },
     "execution_count": 2,
     "metadata": {},
     "output_type": "execute_result"
    }
   ],
   "source": [
    "list(\n",
    "    client['sample_mflix']['movies'].find(\n",
    "        filter={'runtime': {'$gte': 200}},\n",
    "        projection={'_id': 0, 'title': 1, 'runtime': 1, 'year': 1},\n",
    "        limit=5\n",
    "    )\n",
    ")"
   ]
  },
  {
   "attachments": {},
   "cell_type": "markdown",
   "id": "f4e419ff",
   "metadata": {},
   "source": [
    "<br><br><br>"
   ]
  },
  {
   "cell_type": "markdown",
   "id": "51ba731a-e5ea-448f-a9e6-830323fffc72",
   "metadata": {},
   "source": [
    "**Example:** How many movies are there with a runtime of 200 minutes or greater?"
   ]
  },
  {
   "cell_type": "code",
   "execution_count": 3,
   "id": "473e5d0f-0b7b-43d4-8b3c-8557ecccd947",
   "metadata": {},
   "outputs": [
    {
     "data": {
      "text/plain": [
       "227"
      ]
     },
     "execution_count": 3,
     "metadata": {},
     "output_type": "execute_result"
    }
   ],
   "source": [
    "client['sample_mflix']['movies'].count_documents(filter={'runtime': {'$gte': 200}})"
   ]
  },
  {
   "attachments": {},
   "cell_type": "markdown",
   "id": "f4e419ff",
   "metadata": {},
   "source": [
    "<br><br><br>"
   ]
  },
  {
   "cell_type": "markdown",
   "id": "3f23f930-7a8b-478e-a90e-c616926b140b",
   "metadata": {},
   "source": [
    "### `$ne`"
   ]
  },
  {
   "cell_type": "markdown",
   "id": "2dd57917-fe05-446c-afb8-17e7f906b745",
   "metadata": {},
   "source": [
    "The `$ne` (not equal) operator has the same meaning as `<>` in SQL or `!=` in Python."
   ]
  },
  {
   "attachments": {},
   "cell_type": "markdown",
   "id": "f4e419ff",
   "metadata": {},
   "source": [
    "<br><br><br>"
   ]
  },
  {
   "cell_type": "markdown",
   "id": "ac7f384f-5985-4e1e-9447-c29a9528bdab",
   "metadata": {},
   "source": [
    "**Example:** Find the title and the type of 5 documents in the `movies` collection that are not of type `movie`."
   ]
  },
  {
   "cell_type": "code",
   "execution_count": 4,
   "id": "04b43163-7eae-47cf-bf5e-3d3b66f8a991",
   "metadata": {},
   "outputs": [
    {
     "data": {
      "text/plain": [
       "[{'title': 'The Forsyte Saga', 'type': 'series'},\n",
       " {'title': 'Scenes from a Marriage', 'type': 'series'},\n",
       " {'title': 'Ironiya sudby, ili S legkim parom!', 'type': 'series'},\n",
       " {'title': 'I, Claudius', 'type': 'series'},\n",
       " {'title': 'Sybil', 'type': 'series'}]"
      ]
     },
     "execution_count": 4,
     "metadata": {},
     "output_type": "execute_result"
    }
   ],
   "source": [
    "list(\n",
    "    client['sample_mflix']['movies'].find(\n",
    "        filter={'type': {'$ne': 'movie'}},\n",
    "        projection={'_id': 0, 'title': 1, 'type': 1},\n",
    "        limit=5\n",
    "    )\n",
    ")"
   ]
  },
  {
   "cell_type": "markdown",
   "id": "9a90e361-42bd-4878-b118-478d0751de78",
   "metadata": {},
   "source": [
    "Note that the `type` field of none of the returned documents is `movie` (all of them are `series` because that's the only other type that exists in the documents of the `movies` collection)."
   ]
  },
  {
   "attachments": {},
   "cell_type": "markdown",
   "id": "f4e419ff",
   "metadata": {},
   "source": [
    "<br><br><br>"
   ]
  },
  {
   "cell_type": "markdown",
   "id": "91a88ae2-126e-491d-ba36-7ba7f2e3d753",
   "metadata": {},
   "source": [
    "### `$in`, `$nin`"
   ]
  },
  {
   "cell_type": "markdown",
   "id": "33ee87e4-759f-4a8a-b26e-a2391e94e05e",
   "metadata": {},
   "source": [
    "These two operators are equivalent to `IN` and `NOT IN` in SQL, or `in` and `not in` in Python. They are used to check if the value of a field is equal (or not equal) to any value in a given list. What these operators do can also be imitated with `$or` or `$nor`, but these are more concise."
   ]
  },
  {
   "cell_type": "markdown",
   "id": "6f4bfbb6-1abf-4a44-9b9b-31eff558ee99",
   "metadata": {},
   "source": [
    "**Example:** Return the title, production year, and the cast of these movies: The Sixth Sense, Imitation Game, The Red Violin, Match Point, Forrest Gump."
   ]
  },
  {
   "cell_type": "code",
   "execution_count": 5,
   "id": "617f2eb6-5461-471d-bfdd-000cc69d1658",
   "metadata": {},
   "outputs": [
    {
     "data": {
      "text/plain": [
       "[{'year': 1994,\n",
       "  'title': 'Forrest Gump',\n",
       "  'cast': ['Tom Hanks',\n",
       "   'Rebecca Williams',\n",
       "   'Sally Field',\n",
       "   'Michael Conner Humphreys']},\n",
       " {'cast': ['Carlo Cecchi',\n",
       "   'Irene Grazioli',\n",
       "   'Anita Laurenzi',\n",
       "   'Tommaso Puntelli'],\n",
       "  'title': 'The Red Violin',\n",
       "  'year': 1998},\n",
       " {'year': 1999,\n",
       "  'title': 'The Sixth Sense',\n",
       "  'cast': ['Bruce Willis',\n",
       "   'Haley Joel Osment',\n",
       "   'Toni Collette',\n",
       "   'Olivia Williams']},\n",
       " {'year': 2005,\n",
       "  'title': 'Match Point',\n",
       "  'cast': ['Jonathan Rhys Meyers',\n",
       "   'Alexander Armstrong',\n",
       "   'Paul Kaye',\n",
       "   'Matthew Goode']}]"
      ]
     },
     "execution_count": 5,
     "metadata": {},
     "output_type": "execute_result"
    }
   ],
   "source": [
    "list(\n",
    "    client[\"sample_mflix\"][\"movies\"].find(\n",
    "        filter={\n",
    "            \"title\": {\n",
    "                \"$in\": [\n",
    "                    \"The Sixth Sense\",\n",
    "                    \"Imitation Game\",\n",
    "                    \"The Red Violin\",\n",
    "                    \"Match Point\",\n",
    "                    \"Forrest Gump\",\n",
    "                ],\n",
    "            },\n",
    "        },\n",
    "        projection={\"_id\": 0, \"title\": 1, \"cast\": 1, \"year\": 1},\n",
    "        limit=5,\n",
    "    )\n",
    ")"
   ]
  },
  {
   "attachments": {},
   "cell_type": "markdown",
   "id": "f4e419ff",
   "metadata": {},
   "source": [
    "<br><br><br>"
   ]
  },
  {
   "cell_type": "markdown",
   "id": "fdf01bee-bf3f-4a4f-8ab1-129852fe26e6",
   "metadata": {},
   "source": [
    "**Example:** Find the number of movies that are not available in any of these languages: English, French, Italian or German."
   ]
  },
  {
   "cell_type": "code",
   "execution_count": 6,
   "id": "d43a3c5d-6ad0-487f-8dc6-6a1bdfc4d115",
   "metadata": {},
   "outputs": [
    {
     "data": {
      "text/plain": [
       "4888"
      ]
     },
     "execution_count": 6,
     "metadata": {},
     "output_type": "execute_result"
    }
   ],
   "source": [
    "client[\"sample_mflix\"][\"movies\"].count_documents(\n",
    "    filter={'languages': {'$nin': ['English', 'French', 'German', 'Italian']}}\n",
    ")"
   ]
  },
  {
   "attachments": {},
   "cell_type": "markdown",
   "id": "f4e419ff",
   "metadata": {},
   "source": [
    "<br><br><br>"
   ]
  },
  {
   "cell_type": "markdown",
   "id": "c70fcf70-2229-46ff-9861-f05ab6a16292",
   "metadata": {},
   "source": [
    "## Logical operators"
   ]
  },
  {
   "cell_type": "markdown",
   "id": "f2a13c24-4dfe-454e-a56c-0b4526c200ad",
   "metadata": {},
   "source": [
    "### Implicit AND, `$and`"
   ]
  },
  {
   "attachments": {},
   "cell_type": "markdown",
   "id": "1318e7fd-fb2a-4391-9f2a-c32f20c5348f",
   "metadata": {},
   "source": [
    "In MongoDB, specifying multiple conditions on a field or multiple fields implies an implicit logical AND and we don't need to explicitly need to use `$and`. For example, in these filters\n",
    "\n",
    "```\n",
    "{'year': {'$gte': 2000, '$lte': 2010}}\n",
    "```\n",
    "or\n",
    "```\n",
    "{'year': 2010, 'directors': 'Woody Allen'}\n",
    "```\n",
    "a logical AND is implied between the multiple given conditions."
   ]
  },
  {
   "attachments": {},
   "cell_type": "markdown",
   "id": "f4e419ff",
   "metadata": {},
   "source": [
    "<br><br><br>"
   ]
  },
  {
   "cell_type": "markdown",
   "id": "87e1eaf1",
   "metadata": {},
   "source": [
    "There are situations where we need the actual boolean result of the logical AND operation. For example, this projection stage will create a field in the output documents called `high_rated_voted` which evaluates to `true` if both the IMDB rating and the number of votes are high enough, and to `false` otherwise:\n",
    "\n",
    "```\n",
    "$project: {\n",
    "            'title': 1,\n",
    "            'year': 1,\n",
    "            'high_rated_voted': {\n",
    "                '$and': [ \n",
    "                    { $gt: [ $imdb.rating', 8 ] },\n",
    "                    { '$gt': [ '$imdb.votes', 100000 ] } \n",
    "                    ]\n",
    "             }\n",
    "          }\n",
    "```"
   ]
  },
  {
   "attachments": {},
   "cell_type": "markdown",
   "id": "f4e419ff",
   "metadata": {},
   "source": [
    "<br><br><br>"
   ]
  },
  {
   "cell_type": "markdown",
   "id": "8441d143-5ff6-47fd-9b3a-1df6346e8369",
   "metadata": {},
   "source": [
    "**Example:** Using the `sample_supplies` database, return 2 documents associated with sales that are made in Seattle and used a coupon. Exclude the `items` field from the results."
   ]
  },
  {
   "cell_type": "code",
   "execution_count": 7,
   "id": "b81ceb9b-9952-4d5d-88ac-8fc73a43c805",
   "metadata": {},
   "outputs": [
    {
     "data": {
      "text/plain": [
       "[{'saleDate': datetime.datetime(2016, 5, 16, 3, 43, 15, 808000),\n",
       "  'storeLocation': 'Seattle',\n",
       "  'customer': {'gender': 'F',\n",
       "   'age': 26,\n",
       "   'email': 'kupeen@gareha.ne',\n",
       "   'satisfaction': 5},\n",
       "  'couponUsed': True,\n",
       "  'purchaseMethod': 'In store'},\n",
       " {'saleDate': datetime.datetime(2016, 10, 22, 18, 50, 44, 216000),\n",
       "  'storeLocation': 'Seattle',\n",
       "  'customer': {'gender': 'F',\n",
       "   'age': 52,\n",
       "   'email': 'nupzig@apubu.hu',\n",
       "   'satisfaction': 3},\n",
       "  'couponUsed': True,\n",
       "  'purchaseMethod': 'In store'}]"
      ]
     },
     "execution_count": 7,
     "metadata": {},
     "output_type": "execute_result"
    }
   ],
   "source": [
    "list(\n",
    "    client[\"sample_supplies\"][\"sales\"].find(\n",
    "        filter={\n",
    "            'storeLocation': 'Seattle',\n",
    "            'couponUsed': True\n",
    "        },\n",
    "        projection={\"_id\": 0, \"items\": 0},\n",
    "        limit=2,\n",
    "    )\n",
    ")"
   ]
  },
  {
   "cell_type": "markdown",
   "id": "c37a216b-8176-4082-bd38-77fd48ca4676",
   "metadata": {},
   "source": [
    "The above query is equivalent to:"
   ]
  },
  {
   "cell_type": "code",
   "execution_count": 8,
   "id": "e5ee5467-bffc-4ea4-b8e9-c76a9a1ffc40",
   "metadata": {},
   "outputs": [
    {
     "data": {
      "text/plain": [
       "[{'saleDate': datetime.datetime(2016, 5, 16, 3, 43, 15, 808000),\n",
       "  'storeLocation': 'Seattle',\n",
       "  'customer': {'gender': 'F',\n",
       "   'age': 26,\n",
       "   'email': 'kupeen@gareha.ne',\n",
       "   'satisfaction': 5},\n",
       "  'couponUsed': True,\n",
       "  'purchaseMethod': 'In store'},\n",
       " {'saleDate': datetime.datetime(2016, 10, 22, 18, 50, 44, 216000),\n",
       "  'storeLocation': 'Seattle',\n",
       "  'customer': {'gender': 'F',\n",
       "   'age': 52,\n",
       "   'email': 'nupzig@apubu.hu',\n",
       "   'satisfaction': 3},\n",
       "  'couponUsed': True,\n",
       "  'purchaseMethod': 'In store'}]"
      ]
     },
     "execution_count": 8,
     "metadata": {},
     "output_type": "execute_result"
    }
   ],
   "source": [
    "list(\n",
    "    client[\"sample_supplies\"][\"sales\"].find(\n",
    "        filter={\n",
    "            '$and': [   \n",
    "                {'storeLocation': 'Seattle'},\n",
    "                {'couponUsed': True}\n",
    "            ]\n",
    "        },\n",
    "        projection={\"_id\": 0, \"items\": 0},\n",
    "        limit=2,\n",
    "    )\n",
    ")"
   ]
  },
  {
   "attachments": {},
   "cell_type": "markdown",
   "id": "f4e419ff",
   "metadata": {},
   "source": [
    "<br><br><br>"
   ]
  },
  {
   "cell_type": "markdown",
   "id": "d5613987-b471-4ec2-88a0-48f66742b3de",
   "metadata": {},
   "source": [
    "**Example:** Using the `sample_supplies` database, find the number of sales made between October 1, 2014 and December 1, 2014."
   ]
  },
  {
   "cell_type": "code",
   "execution_count": 9,
   "id": "7f93cf1b-e853-4b7f-843c-87d84357f354",
   "metadata": {},
   "outputs": [
    {
     "data": {
      "text/plain": [
       "153"
      ]
     },
     "execution_count": 9,
     "metadata": {},
     "output_type": "execute_result"
    }
   ],
   "source": [
    "import datetime\n",
    "\n",
    "client[\"sample_supplies\"][\"sales\"].count_documents(\n",
    "        filter={\n",
    "            'saleDate': {\n",
    "                '$gte': datetime.datetime(2014, 10, 1),\n",
    "                '$lte': datetime.datetime(2014, 12, 1)\n",
    "            }\n",
    "        }\n",
    ")"
   ]
  },
  {
   "attachments": {},
   "cell_type": "markdown",
   "id": "f4e419ff",
   "metadata": {},
   "source": [
    "<br><br><br>"
   ]
  },
  {
   "cell_type": "markdown",
   "id": "5d520245-c2de-4a28-a0aa-2cd3cdc94e7f",
   "metadata": {},
   "source": [
    "> **Note:** When specifying multiple conditions for a field, all conditions should be put into a single query document for that field (or an `$and` operator should be used). For example, the following query only checks the **last condition on the field** and returns unexpected results:"
   ]
  },
  {
   "cell_type": "code",
   "execution_count": 10,
   "id": "9209f99d-a588-4987-ba01-a3d730cce7a7",
   "metadata": {},
   "outputs": [
    {
     "data": {
      "text/plain": [
       "1861"
      ]
     },
     "execution_count": 10,
     "metadata": {},
     "output_type": "execute_result"
    }
   ],
   "source": [
    "import datetime\n",
    "\n",
    "client[\"sample_supplies\"][\"sales\"].count_documents(\n",
    "        filter={\n",
    "            'saleDate': {'$gte': datetime.datetime(2014, 10, 1)},\n",
    "            'saleDate': {'$lte': datetime.datetime(2014, 12, 1)}\n",
    "    }\n",
    ")"
   ]
  },
  {
   "attachments": {},
   "cell_type": "markdown",
   "id": "f4e419ff",
   "metadata": {},
   "source": [
    "<br><br><br>"
   ]
  },
  {
   "cell_type": "markdown",
   "id": "466d3ce2-25f7-49d9-b66a-f5a54a037a76",
   "metadata": {
    "tags": []
   },
   "source": [
    "### `$or`, `$nor`"
   ]
  },
  {
   "cell_type": "markdown",
   "id": "3502469c-f921-48c4-951c-caf581bfdaf6",
   "metadata": {},
   "source": [
    "These are general logical OR/NOR operators. The difference with `$in`/`$nin` is that `$in`/`$nin` can be used for an equality condition on a single field, but `$or`/`$nor` are general and can be used with any boolean expression."
   ]
  },
  {
   "attachments": {},
   "cell_type": "markdown",
   "id": "f4e419ff",
   "metadata": {},
   "source": [
    "<br><br><br>"
   ]
  },
  {
   "cell_type": "markdown",
   "id": "b5f474b1-1fcd-468a-8d55-3c774d8171cd",
   "metadata": {},
   "source": [
    "**Example:** Using the `sample_supplies` database, find 5 sales that were made in New York and were either paid by phone or didn't use a coupon."
   ]
  },
  {
   "cell_type": "code",
   "execution_count": 11,
   "id": "bb6d1905-fe3a-49cf-bf85-901e19957d07",
   "metadata": {},
   "outputs": [
    {
     "data": {
      "text/plain": [
       "[{'saleDate': datetime.datetime(2017, 3, 21, 1, 54, 26, 657000),\n",
       "  'storeLocation': 'New York',\n",
       "  'customer': {'gender': 'M',\n",
       "   'age': 26,\n",
       "   'email': 'rapifoozi@viupoen.bb',\n",
       "   'satisfaction': 5},\n",
       "  'couponUsed': True,\n",
       "  'purchaseMethod': 'In store'},\n",
       " {'saleDate': datetime.datetime(2013, 8, 21, 9, 36, 7, 188000),\n",
       "  'storeLocation': 'New York',\n",
       "  'customer': {'gender': 'F',\n",
       "   'age': 53,\n",
       "   'email': 'se@nacwev.an',\n",
       "   'satisfaction': 4},\n",
       "  'couponUsed': False,\n",
       "  'purchaseMethod': 'Phone'},\n",
       " {'saleDate': datetime.datetime(2017, 9, 2, 15, 42, 22, 167000),\n",
       "  'storeLocation': 'New York',\n",
       "  'customer': {'gender': 'M',\n",
       "   'age': 34,\n",
       "   'email': 'bubbecgu@odidecned.tf',\n",
       "   'satisfaction': 3},\n",
       "  'couponUsed': False,\n",
       "  'purchaseMethod': 'Phone'},\n",
       " {'saleDate': datetime.datetime(2015, 3, 6, 19, 13, 35, 155000),\n",
       "  'storeLocation': 'New York',\n",
       "  'customer': {'gender': 'F',\n",
       "   'age': 42,\n",
       "   'email': 'jecosab@copfatma.af',\n",
       "   'satisfaction': 3},\n",
       "  'couponUsed': False,\n",
       "  'purchaseMethod': 'Phone'},\n",
       " {'saleDate': datetime.datetime(2015, 10, 14, 23, 25, 30, 610000),\n",
       "  'storeLocation': 'New York',\n",
       "  'customer': {'gender': 'F',\n",
       "   'age': 39,\n",
       "   'email': 'fip@ruc.cg',\n",
       "   'satisfaction': 5},\n",
       "  'couponUsed': False,\n",
       "  'purchaseMethod': 'Phone'}]"
      ]
     },
     "execution_count": 11,
     "metadata": {},
     "output_type": "execute_result"
    }
   ],
   "source": [
    "list(\n",
    "    client[\"sample_supplies\"][\"sales\"].find(\n",
    "        filter={\n",
    "            'storeLocation': 'New York',\n",
    "            '$or': [\n",
    "                {'purchaseMethod': 'Phone'},\n",
    "                {'couponUsed': True}\n",
    "            ]\n",
    "        },\n",
    "        projection={\"_id\": 0, \"items\": 0},\n",
    "        limit=5,\n",
    "    )\n",
    ")"
   ]
  },
  {
   "attachments": {},
   "cell_type": "markdown",
   "id": "f4e419ff",
   "metadata": {},
   "source": [
    "<br><br><br>"
   ]
  },
  {
   "cell_type": "markdown",
   "id": "b15092a9-8dcc-41f2-9b90-5504a1b45426",
   "metadata": {
    "tags": []
   },
   "source": [
    "### `$not`"
   ]
  },
  {
   "attachments": {},
   "cell_type": "markdown",
   "id": "f89f3395-222a-42e4-b615-7074896293a7",
   "metadata": {},
   "source": [
    "This is similar to `NOT` in SQL or `not` in Python, and is used to negate a boolean expression. This could be useful, for example, when you want to match field values that **do not** follow a particular regex pattern."
   ]
  },
  {
   "attachments": {},
   "cell_type": "markdown",
   "id": "f4e419ff",
   "metadata": {},
   "source": [
    "<br><br><br>"
   ]
  },
  {
   "cell_type": "markdown",
   "id": "03484c89-7b4e-46c5-bbb6-80672e7c65a5",
   "metadata": {},
   "source": [
    "## Field existence with `$exists`"
   ]
  },
  {
   "cell_type": "markdown",
   "id": "6783274c-4651-4b2e-8dda-becbb88daf38",
   "metadata": {},
   "source": [
    "One of the hallmarks of document-based NoSQL databases is that **their schema is flexible**, meaning that not all documents need to have the same fields. This is why sometimes we need to check for the existence of a field before trying to use it. This is done using the `$exists` operator in MongoDB."
   ]
  },
  {
   "cell_type": "markdown",
   "id": "37797124-a6c4-4d31-ba57-d86d484c96ec",
   "metadata": {},
   "source": [
    "In the following example, I want to select documents for movies that are not in English. However, I should make sure that `languages` field actually exists, because otherwise I might filter out English movies that simply don't have the `languages` field:"
   ]
  },
  {
   "cell_type": "code",
   "execution_count": 12,
   "id": "b48036a0-f152-41d9-a1e4-c88da6d4c86e",
   "metadata": {},
   "outputs": [
    {
     "data": {
      "text/plain": [
       "[{'title': 'Les vampires', 'languages': ['French']},\n",
       " {'title': 'Nosferatu', 'languages': ['German']},\n",
       " {'title': 'Battleship Potemkin', 'languages': ['Russian']},\n",
       " {'title': 'Metropolis', 'languages': ['German']},\n",
       " {'title': \"Pandora's Box\", 'languages': ['German']},\n",
       " {'title': 'The Passion of Joan of Arc', 'languages': ['French']},\n",
       " {'title': 'Storm Over Asia', 'languages': ['Russian']},\n",
       " {'title': 'Asphalt', 'languages': ['German']},\n",
       " {'title': 'David Golder', 'languages': ['French']},\n",
       " {'title': 'The Blood of a Poet', 'languages': ['French']}]"
      ]
     },
     "execution_count": 12,
     "metadata": {},
     "output_type": "execute_result"
    }
   ],
   "source": [
    "list(\n",
    "    client[\"sample_mflix\"][\"movies\"].find(\n",
    "        filter={\n",
    "            'languages': {\n",
    "                '$ne': 'English',\n",
    "                '$exists': True  # comment this line to see the difference\n",
    "            }\n",
    "        },\n",
    "        projection={'_id': 0, 'languages': 1, 'title': 1},\n",
    "        limit=10,\n",
    "    )\n",
    ")"
   ]
  },
  {
   "attachments": {},
   "cell_type": "markdown",
   "id": "f4e419ff",
   "metadata": {},
   "source": [
    "<br><br><br>"
   ]
  },
  {
   "cell_type": "markdown",
   "id": "cabfd3b1-c57d-48f6-8337-3085e9905d44",
   "metadata": {},
   "source": [
    "## Pattern matching with `$regex`"
   ]
  },
  {
   "cell_type": "markdown",
   "id": "0fcd739e-31fe-45ca-8416-3b5aa816b055",
   "metadata": {},
   "source": [
    "Pattern matching using regex is done in pretty much the same way as in Postgres. Because MongoDB uses JavaScript notation for regex by default, in Compass or `mongosh` patterns need to be enclosed in fore-slashes, e.g. `/pattern/`. In `pymongo` however, you can use regex patterns without the fore-slashes, just like in SQL."
   ]
  },
  {
   "attachments": {},
   "cell_type": "markdown",
   "id": "f4e419ff",
   "metadata": {},
   "source": [
    "<br><br><br>"
   ]
  },
  {
   "cell_type": "markdown",
   "id": "c658b8af-917d-4c43-995a-e384d58649e6",
   "metadata": {},
   "source": [
    "**Example:** Return 5 documents for movies whose title contains 3 digits (and 3 digits only) at the end (e.g. UBC 333)."
   ]
  },
  {
   "cell_type": "code",
   "execution_count": 13,
   "id": "20caee98-98fe-4b5e-857e-c8b1f9b7cb02",
   "metadata": {},
   "outputs": [
    {
     "data": {
      "text/plain": [
       "[{'title': 'Call Northside 777'},\n",
       " {'title': 'Mister 880'},\n",
       " {'title': 'Shree 420'},\n",
       " {'title': 'Stop Train 349'},\n",
       " {'title': 'Fahrenheit 451'}]"
      ]
     },
     "execution_count": 13,
     "metadata": {},
     "output_type": "execute_result"
    }
   ],
   "source": [
    "list(\n",
    "    client[\"sample_mflix\"][\"movies\"].find(\n",
    "        filter={\n",
    "            'title': {'$regex': '[^\\d]\\d{3}$'}\n",
    "        },\n",
    "        projection={'_id': 0, 'title': 1},\n",
    "        limit=5,\n",
    "    )\n",
    ")"
   ]
  },
  {
   "attachments": {},
   "cell_type": "markdown",
   "id": "f4e419ff",
   "metadata": {},
   "source": [
    "<br><br><br>"
   ]
  },
  {
   "cell_type": "markdown",
   "id": "377a92a7-0531-48a0-b7a9-f00da80ba883",
   "metadata": {},
   "source": [
    "**Example:** Return 10 documents for movies whose title does not contain any letters (case insensitive)."
   ]
  },
  {
   "cell_type": "code",
   "execution_count": 14,
   "id": "44cdf2e4-f8db-4854-acf4-c159a5c26f6a",
   "metadata": {},
   "outputs": [
    {
     "data": {
      "text/plain": [
       "[{'title': '8è'},\n",
       " {'title': '$'},\n",
       " {'title': '1776'},\n",
       " {'title': '1900'},\n",
       " {'title': '10'},\n",
       " {'title': '2010'},\n",
       " {'title': '1969'},\n",
       " {'title': '12:01'},\n",
       " {'title': '1-900'},\n",
       " {'title': '54'}]"
      ]
     },
     "execution_count": 14,
     "metadata": {},
     "output_type": "execute_result"
    }
   ],
   "source": [
    "list(\n",
    "    client[\"sample_mflix\"][\"movies\"].find(\n",
    "        filter={\n",
    "            'title': {'$not': {'$regex': '(?i)[a-z]'}}\n",
    "        },\n",
    "        projection={'_id': 0, 'title': 1},\n",
    "        limit=10,\n",
    "    )\n",
    ")"
   ]
  },
  {
   "attachments": {},
   "cell_type": "markdown",
   "id": "f4e419ff",
   "metadata": {},
   "source": [
    "<br><br><br>"
   ]
  },
  {
   "cell_type": "markdown",
   "id": "c549df3d-5ab4-4d8c-b062-1b9b53663440",
   "metadata": {},
   "source": [
    "## Querying sub-documents"
   ]
  },
  {
   "cell_type": "code",
   "execution_count": 15,
   "id": "b8ef7a2a-406b-47fa-9c5e-b0df87694083",
   "metadata": {},
   "outputs": [],
   "source": [
    "client['mds']['instructors'].drop()"
   ]
  },
  {
   "attachments": {},
   "cell_type": "markdown",
   "id": "4926d5b1",
   "metadata": {},
   "source": [
    "Let's first create a toy database called `mds`:"
   ]
  },
  {
   "cell_type": "code",
   "execution_count": 16,
   "id": "e1fc4696-a206-4048-b155-c68e2d879c48",
   "metadata": {},
   "outputs": [],
   "source": [
    "if client['mds']['instructors'].count_documents({}) == 0:\n",
    "    \n",
    "    client['mds']['instructors'].insert_many([\n",
    "        {\n",
    "            'name': 'Arman',\n",
    "            'department': {\n",
    "                'name': 'Computer Science',\n",
    "                'campus': 'Vancouver'\n",
    "            },\n",
    "            'courses': [\n",
    "                {\n",
    "                    'name': 'Algorithms & Data Structures',\n",
    "                    'code': 512\n",
    "                },\n",
    "                {\n",
    "                    'name': 'Descriptive Statistics and Probability',\n",
    "                    'code': 551\n",
    "                },\n",
    "            ]\n",
    "        },\n",
    "        {\n",
    "            'name': 'Rodolfo',\n",
    "            'department': {\n",
    "                'name': 'Statistics',\n",
    "                'campus': 'Vancouver'\n",
    "            },\n",
    "            'courses': [\n",
    "                {\n",
    "                    'name': 'Programming for Data Manipulation',\n",
    "                    'code': 523\n",
    "                },\n",
    "                {\n",
    "                    'name': 'Data Science Workflows',\n",
    "                    'code': 522\n",
    "                },\n",
    "                {\n",
    "                    'name': 'Collaborative Software Development',\n",
    "                    'code': 524\n",
    "                },\n",
    "            ]\n",
    "        },\n",
    "        {\n",
    "            'name': 'Alexi',\n",
    "            'department': {\n",
    "                'name': 'Statistics',\n",
    "                'campus': 'Vancouver'\n",
    "            },\n",
    "            'courses': [\n",
    "                {\n",
    "                    'name': 'Statistical Inference and Computation',\n",
    "                    'code': 552\n",
    "                },\n",
    "                {\n",
    "                    'name': 'Regression II',\n",
    "                    'code': 562\n",
    "                },\n",
    "            ]\n",
    "        }\n",
    "    ])"
   ]
  },
  {
   "attachments": {},
   "cell_type": "markdown",
   "id": "abdd9875-ac1d-477b-b6e4-51502328192c",
   "metadata": {},
   "source": [
    "Sub-documents can be queried for either for an **exact match** or for **particular sub-fields**.\n",
    "\n",
    "The following query wouldn't work because it looks for a sub-document `'department': {'name': 'Statistics'}` (exact match, no more no less) which does not exist:"
   ]
  },
  {
   "cell_type": "code",
   "execution_count": 17,
   "id": "10872207-23dc-4da4-be56-966f6d71fb08",
   "metadata": {},
   "outputs": [
    {
     "data": {
      "text/plain": [
       "[]"
      ]
     },
     "execution_count": 17,
     "metadata": {},
     "output_type": "execute_result"
    }
   ],
   "source": [
    "list(\n",
    "    client['mds']['instructors'].find(\n",
    "        filter={\n",
    "            'department': {'name': 'Statistics'}\n",
    "        }\n",
    "    )\n",
    ")"
   ]
  },
  {
   "cell_type": "markdown",
   "id": "e9f99377-ace7-4e2b-b2f9-d54b42a3ea08",
   "metadata": {},
   "source": [
    "But if we supply the full `department` sub-document:"
   ]
  },
  {
   "cell_type": "code",
   "execution_count": 18,
   "id": "ce57840a-ee76-47fa-aa90-a538765303b9",
   "metadata": {},
   "outputs": [
    {
     "data": {
      "text/plain": [
       "[{'_id': ObjectId('6391cf14210a99d148d3180e'),\n",
       "  'name': 'Rodolfo',\n",
       "  'department': {'name': 'Statistics', 'campus': 'Vancouver'},\n",
       "  'courses': [{'name': 'Programming for Data Manipulation', 'code': 523},\n",
       "   {'name': 'Data Science Workflows', 'code': 522},\n",
       "   {'name': 'Collaborative Software Development', 'code': 524}]},\n",
       " {'_id': ObjectId('6391cf14210a99d148d3180f'),\n",
       "  'name': 'Alexi',\n",
       "  'department': {'name': 'Statistics', 'campus': 'Vancouver'},\n",
       "  'courses': [{'name': 'Statistical Inference and Computation', 'code': 552},\n",
       "   {'name': 'Regression II', 'code': 562}]}]"
      ]
     },
     "execution_count": 18,
     "metadata": {},
     "output_type": "execute_result"
    }
   ],
   "source": [
    "list(\n",
    "    client['mds']['instructors'].find(\n",
    "        filter={\n",
    "            'department': {'name': 'Statistics', 'campus': 'Vancouver'}\n",
    "        }\n",
    "    )\n",
    ")"
   ]
  },
  {
   "attachments": {},
   "cell_type": "markdown",
   "id": "f4e419ff",
   "metadata": {},
   "source": [
    "<br><br><br>"
   ]
  },
  {
   "attachments": {},
   "cell_type": "markdown",
   "id": "76885b25-503c-4434-9575-6969ae7293e0",
   "metadata": {},
   "source": [
    "However, we can look for particular values for sub-fields directly using **the dot notation**.\n",
    "\n",
    "For example, if we want to find instructors from the Statistics department, we can use the following query:"
   ]
  },
  {
   "cell_type": "code",
   "execution_count": 19,
   "id": "715facff-b304-4ea6-9ad5-c93ff783c6f0",
   "metadata": {},
   "outputs": [
    {
     "data": {
      "text/plain": [
       "[{'_id': ObjectId('6391cf14210a99d148d3180e'),\n",
       "  'name': 'Rodolfo',\n",
       "  'department': {'name': 'Statistics', 'campus': 'Vancouver'},\n",
       "  'courses': [{'name': 'Programming for Data Manipulation', 'code': 523},\n",
       "   {'name': 'Data Science Workflows', 'code': 522},\n",
       "   {'name': 'Collaborative Software Development', 'code': 524}]},\n",
       " {'_id': ObjectId('6391cf14210a99d148d3180f'),\n",
       "  'name': 'Alexi',\n",
       "  'department': {'name': 'Statistics', 'campus': 'Vancouver'},\n",
       "  'courses': [{'name': 'Statistical Inference and Computation', 'code': 552},\n",
       "   {'name': 'Regression II', 'code': 562}]}]"
      ]
     },
     "execution_count": 19,
     "metadata": {},
     "output_type": "execute_result"
    }
   ],
   "source": [
    "list(\n",
    "    client['mds']['instructors'].find(\n",
    "        filter={\n",
    "            'department.name': 'Statistics'\n",
    "        }\n",
    "    )\n",
    ")"
   ]
  },
  {
   "attachments": {},
   "cell_type": "markdown",
   "id": "ebc6a1e4-74c8-41d2-b026-9ea5abb39f75",
   "metadata": {},
   "source": [
    "In this way, if over time other fields are added to the `department` field, our query will still be robust and run without problems."
   ]
  },
  {
   "attachments": {},
   "cell_type": "markdown",
   "id": "f4e419ff",
   "metadata": {},
   "source": [
    "<br><br><br>"
   ]
  },
  {
   "cell_type": "markdown",
   "id": "8c09c7bb-74da-4ce4-b989-552043d439bb",
   "metadata": {},
   "source": [
    "## Querying arrays"
   ]
  },
  {
   "attachments": {},
   "cell_type": "markdown",
   "id": "80ef0a64-95dc-4a89-a4db-0154094889e3",
   "metadata": {},
   "source": [
    "Similar to sub-documents, arrays can either be matched exactly or partially.\n",
    "\n",
    "If we're looking for a **single value** inside an array, we can write our query **as if the array field was a regular simple field**.\n",
    "\n",
    "For example, the following query returns movies that are available in French, among other languages:"
   ]
  },
  {
   "cell_type": "code",
   "execution_count": 20,
   "id": "6dce7a3e-43e9-4cd0-ad66-fbb44c6431a4",
   "metadata": {},
   "outputs": [
    {
     "data": {
      "text/plain": [
       "[{'title': 'Les vampires', 'languages': ['French']},\n",
       " {'title': 'The Passion of Joan of Arc', 'languages': ['French']},\n",
       " {'title': 'All Quiet on the Western Front',\n",
       "  'languages': ['English', 'French', 'German', 'Latin']},\n",
       " {'title': 'David Golder', 'languages': ['French']},\n",
       " {'title': 'The Divorcee', 'languages': ['English', 'French']},\n",
       " {'title': 'Morocco',\n",
       "  'languages': ['English', 'French', 'Spanish', 'Arabic', 'Italian']},\n",
       " {'title': 'The Blood of a Poet', 'languages': ['French']},\n",
       " {'title': 'Under the Roofs of Paris', 'languages': ['French', 'Romanian']},\n",
       " {'title': 'Cimarron', 'languages': ['English', 'French']},\n",
       " {'title': 'Comradeship', 'languages': ['French', 'German']}]"
      ]
     },
     "execution_count": 20,
     "metadata": {},
     "output_type": "execute_result"
    }
   ],
   "source": [
    "list(\n",
    "    client[\"sample_mflix\"][\"movies\"].find(\n",
    "        filter={'languages': 'French'},\n",
    "        projection={'_id': 0, 'languages': 1, 'title': 1},\n",
    "        limit=10,\n",
    "    )\n",
    ")"
   ]
  },
  {
   "attachments": {},
   "cell_type": "markdown",
   "id": "c28232e6-3a36-40ca-9669-02abe2bd797d",
   "metadata": {},
   "source": [
    "Note that the `languages` field in all of the above documents contains French, while other languages are also occasionally found in the array."
   ]
  },
  {
   "attachments": {},
   "cell_type": "markdown",
   "id": "f4e419ff",
   "metadata": {},
   "source": [
    "<br><br><br>"
   ]
  },
  {
   "attachments": {},
   "cell_type": "markdown",
   "id": "ebe0b54f-1539-4012-a49d-1d1b19667e4c",
   "metadata": {},
   "source": [
    "Things are different if we're looking for **more than one element**. If the desired elements are specified inside `[]`, then MongoDB looks for an exact match.\n",
    "\n",
    "For example, with the following query:"
   ]
  },
  {
   "cell_type": "code",
   "execution_count": 21,
   "id": "4142a204-306c-4457-a9eb-e17c84011e16",
   "metadata": {},
   "outputs": [
    {
     "data": {
      "text/plain": [
       "[{'title': 'The Divorcee', 'languages': ['English', 'French']},\n",
       " {'title': 'Cimarron', 'languages': ['English', 'French']},\n",
       " {'title': 'The Sin of Madelon Claudet', 'languages': ['English', 'French']},\n",
       " {'title': 'Forbidden', 'languages': ['English', 'French']},\n",
       " {'title': 'Baby Face', 'languages': ['English', 'French']},\n",
       " {'title': 'Footlight Parade', 'languages': ['English', 'French']},\n",
       " {'title': 'Going Hollywood', 'languages': ['English', 'French']},\n",
       " {'title': 'Death Takes a Holiday', 'languages': ['English', 'French']},\n",
       " {'title': 'Becky Sharp', 'languages': ['English', 'French']},\n",
       " {'title': 'Folies Bergère de Paris', 'languages': ['English', 'French']}]"
      ]
     },
     "execution_count": 21,
     "metadata": {},
     "output_type": "execute_result"
    }
   ],
   "source": [
    "list(\n",
    "    client[\"sample_mflix\"][\"movies\"].find(\n",
    "        filter={\n",
    "            'languages': ['English', 'French']  # order matters here\n",
    "            # 'languages': ['French', 'English']\n",
    "        },\n",
    "        projection={'_id': 0, 'languages': 1, 'title': 1},\n",
    "        limit=10,\n",
    "    )\n",
    ")"
   ]
  },
  {
   "cell_type": "markdown",
   "id": "568d2c0b-5960-4ace-acee-d870b45c1d4d",
   "metadata": {},
   "source": [
    "only those documents will be returned that **only and only** have `['English', 'French']` in their `'languages'`, **in the exact same order**. You can switch the order of the languages to see that you get different results."
   ]
  },
  {
   "attachments": {},
   "cell_type": "markdown",
   "id": "f4e419ff",
   "metadata": {},
   "source": [
    "<br><br><br>"
   ]
  },
  {
   "attachments": {},
   "cell_type": "markdown",
   "id": "89e1db92-170f-492b-abb0-7b96a6863c1c",
   "metadata": {},
   "source": [
    "We can also query an array by the **index** of its elements, just like in Python.\n",
    "\n",
    "Here, I'm looking for movies which have Italian listed as the first language in their `languages` field:"
   ]
  },
  {
   "cell_type": "code",
   "execution_count": 22,
   "id": "4bc16f68-871c-4d95-8690-a8227fc3073e",
   "metadata": {},
   "outputs": [
    {
     "data": {
      "text/plain": [
       "[{'title': \"Everybody's Woman\", 'languages': ['Italian']},\n",
       " {'title': 'The Siege of the Alcazar', 'languages': ['Italian']},\n",
       " {'title': 'The White Ship', 'languages': ['Italian']},\n",
       " {'title': 'Ossessione', 'languages': ['Italian']},\n",
       " {'title': 'The Testimony', 'languages': ['Italian']},\n",
       " {'title': 'The Bandit', 'languages': ['Italian', 'German', 'English']},\n",
       " {'title': 'La porta del cielo', 'languages': ['Italian']},\n",
       " {'title': 'Paisan',\n",
       "  'languages': ['Italian', 'English', 'German', 'Sicilian']},\n",
       " {'title': 'Rome, Open City', 'languages': ['Italian', 'German', 'Latin']},\n",
       " {'title': 'Shoeshine', 'languages': ['Italian', 'English']}]"
      ]
     },
     "execution_count": 22,
     "metadata": {},
     "output_type": "execute_result"
    }
   ],
   "source": [
    "list(\n",
    "    client[\"sample_mflix\"][\"movies\"].find(\n",
    "        filter={\n",
    "            'languages.0': 'Italian'\n",
    "        },\n",
    "        projection={'_id': 0, 'languages': 1, 'title': 1},\n",
    "        limit=10,\n",
    "    )\n",
    ")"
   ]
  },
  {
   "attachments": {},
   "cell_type": "markdown",
   "id": "f4e419ff",
   "metadata": {},
   "source": [
    "<br><br><br>"
   ]
  },
  {
   "cell_type": "markdown",
   "id": "1ebc4577-3cc6-42b3-9bab-ebc31c930c0a",
   "metadata": {},
   "source": [
    "### `$size`"
   ]
  },
  {
   "attachments": {},
   "cell_type": "markdown",
   "id": "90b5f269-b13f-4fd5-890e-83a942a46655",
   "metadata": {},
   "source": [
    "The `$size` operator checks for the number of elements inside an array.\n",
    "\n",
    "For example, suppose that we want to return all movies that are have 2 directors:"
   ]
  },
  {
   "cell_type": "code",
   "execution_count": 23,
   "id": "63d0ead9-e139-40a7-b5d1-0609e8844868",
   "metadata": {},
   "outputs": [
    {
     "data": {
      "text/plain": [
       "[{'title': 'Winsor McCay, the Famous Cartoonist of the N.Y. Herald and His Moving Comics',\n",
       "  'directors': ['Winsor McCay', 'J. Stuart Blackton']},\n",
       " {'title': 'The Perils of Pauline',\n",
       "  'directors': ['Louis J. Gasnier', 'Donald MacKenzie']},\n",
       " {'title': 'Where Are My Children?',\n",
       "  'directors': ['Phillips Smalley', 'Lois Weber']},\n",
       " {'title': 'From Hand to Mouth',\n",
       "  'directors': ['Alfred J. Goulding', 'Hal Roach']},\n",
       " {'title': 'The Last of the Mohicans',\n",
       "  'directors': ['Clarence Brown', 'Maurice Tourneur']},\n",
       " {'title': 'One Week', 'directors': ['Edward F. Cline', 'Buster Keaton']},\n",
       " {'title': 'The Saphead', 'directors': ['Herbert Blachè', 'Winchell Smith']},\n",
       " {'title': 'Now or Never', 'directors': ['Fred C. Newmeyer', 'Hal Roach']},\n",
       " {'title': 'Cops', 'directors': ['Edward F. Cline', 'Buster Keaton']},\n",
       " {'title': 'Salomè', 'directors': ['Charles Bryant', 'Alla Nazimova']}]"
      ]
     },
     "execution_count": 23,
     "metadata": {},
     "output_type": "execute_result"
    }
   ],
   "source": [
    "list(\n",
    "    client[\"sample_mflix\"][\"movies\"].find(\n",
    "        filter={\n",
    "            'directors': {'$size': 2}\n",
    "        },\n",
    "        projection={'_id': 0, 'directors': 1, 'title': 1},\n",
    "        limit=10,\n",
    "    )\n",
    ")"
   ]
  },
  {
   "attachments": {},
   "cell_type": "markdown",
   "id": "f4e419ff",
   "metadata": {},
   "source": [
    "<br><br><br>"
   ]
  },
  {
   "cell_type": "markdown",
   "id": "64c164ba-6b5a-4869-aeba-91936a9645bd",
   "metadata": {},
   "source": [
    "### `$all`"
   ]
  },
  {
   "cell_type": "markdown",
   "id": "882df775-24e3-4f21-9e2b-fcbd9c1e84c3",
   "metadata": {},
   "source": [
    "Now suppose that we want to find movies that are available in both English and French, among other languages, and we don't care about the order in which they appear. For this situation, we can use the `$all` operator to match arrays that contain all listed values among other values, in no particular order:"
   ]
  },
  {
   "cell_type": "code",
   "execution_count": 24,
   "id": "26770122-cb04-4766-b9de-b89978ba002b",
   "metadata": {},
   "outputs": [
    {
     "data": {
      "text/plain": [
       "[{'title': 'All Quiet on the Western Front',\n",
       "  'languages': ['English', 'French', 'German', 'Latin']},\n",
       " {'title': 'The Divorcee', 'languages': ['English', 'French']},\n",
       " {'title': 'Morocco',\n",
       "  'languages': ['English', 'French', 'Spanish', 'Arabic', 'Italian']},\n",
       " {'title': 'Cimarron', 'languages': ['English', 'French']},\n",
       " {'title': 'The Sin of Madelon Claudet', 'languages': ['English', 'French']},\n",
       " {'title': 'Forbidden', 'languages': ['English', 'French']},\n",
       " {'title': 'Freaks', 'languages': ['English', 'German', 'French']},\n",
       " {'title': 'The Mummy', 'languages': ['English', 'Arabic', 'French']},\n",
       " {'title': 'Shanghai Express',\n",
       "  'languages': ['English', 'French', 'Cantonese', 'German']},\n",
       " {'title': 'Baby Face', 'languages': ['English', 'French']}]"
      ]
     },
     "execution_count": 24,
     "metadata": {},
     "output_type": "execute_result"
    }
   ],
   "source": [
    "list(\n",
    "    client[\"sample_mflix\"][\"movies\"].find(\n",
    "        filter={\n",
    "            'languages': {'$all': ['English', 'French']}\n",
    "        },\n",
    "        projection={'_id': 0, 'languages': 1, 'title': 1},\n",
    "        limit=10,\n",
    "    )\n",
    ")"
   ]
  },
  {
   "attachments": {},
   "cell_type": "markdown",
   "id": "bb158614-dca7-4884-9f4c-b19bc2e17ae1",
   "metadata": {},
   "source": [
    "Note that the `languages` field of all of the above documents contains English and French **in no particular order**, in addition to other languages that might happen to exist in the same array."
   ]
  },
  {
   "attachments": {},
   "cell_type": "markdown",
   "id": "f4e419ff",
   "metadata": {},
   "source": [
    "<br><br><br>"
   ]
  },
  {
   "cell_type": "markdown",
   "id": "61a533a0-7fa7-4088-8ecc-ad4dc59bae58",
   "metadata": {},
   "source": [
    "### `$elemMatch`"
   ]
  },
  {
   "cell_type": "markdown",
   "id": "09ac6d82-317f-4468-b401-5e52c81b02b1",
   "metadata": {},
   "source": [
    "We can best see the use case of this operator with an example. Consider these documents in the `students` collection of the `mds` database:"
   ]
  },
  {
   "cell_type": "code",
   "execution_count": 25,
   "id": "094995a0-b93a-4658-86d1-32ea33aee272",
   "metadata": {},
   "outputs": [],
   "source": [
    "client['mds']['students'].drop()"
   ]
  },
  {
   "cell_type": "code",
   "execution_count": 26,
   "id": "eba7c0db-3c15-4794-b4ff-763fa8d66200",
   "metadata": {},
   "outputs": [],
   "source": [
    "if client['mds']['students'].count_documents({}) == 0:\n",
    "    \n",
    "    client['mds']['students'].insert_many([\n",
    "        {\n",
    "            'name': 'Quan',\n",
    "            'grades': [79, 87, 97]\n",
    "        },\n",
    "        {\n",
    "            'name': 'Varada',\n",
    "            'grades': [75, 82, 90]\n",
    "        },\n",
    "        {\n",
    "            'name': 'Florencia',\n",
    "            'grades': [92, 93, 77]\n",
    "        }\n",
    "    ])"
   ]
  },
  {
   "attachments": {},
   "cell_type": "markdown",
   "id": "c91809b0-e8cf-4446-b658-e2ebb6d16c02",
   "metadata": {},
   "source": [
    "Suppose that we want to retrieve the document for students who have a grade in the `[80, 85]` range. In our collection, only the student named \"Varada\" has a grade in that range (i.e. 82). Let's see if the following query works:"
   ]
  },
  {
   "cell_type": "code",
   "execution_count": 27,
   "id": "0a850863-1f2a-45fe-a5fc-52ffc5f5387b",
   "metadata": {},
   "outputs": [
    {
     "data": {
      "text/plain": [
       "[{'_id': ObjectId('6391cf15210a99d148d31810'),\n",
       "  'name': 'Quan',\n",
       "  'grades': [79, 87, 97]},\n",
       " {'_id': ObjectId('6391cf15210a99d148d31811'),\n",
       "  'name': 'Varada',\n",
       "  'grades': [75, 82, 90]},\n",
       " {'_id': ObjectId('6391cf15210a99d148d31812'),\n",
       "  'name': 'Florencia',\n",
       "  'grades': [92, 93, 77]}]"
      ]
     },
     "execution_count": 27,
     "metadata": {},
     "output_type": "execute_result"
    }
   ],
   "source": [
    "list(\n",
    "    client['mds']['students'].find(\n",
    "        filter={'grades': {'$gte': 80, '$lte': 85}}\n",
    "    )\n",
    ")"
   ]
  },
  {
   "attachments": {},
   "cell_type": "markdown",
   "id": "1afe751d-5924-4f85-ba41-ac17add83417",
   "metadata": {},
   "source": [
    "Oops, it returned all documents!\n",
    "\n",
    "The reason is that when multiple conditions are defined on an array, MongoDB checks the array **as a whole**. If there is at least one match for each condition in the whole array, then that document will be returned.\n",
    "\n",
    "In order to force MongoDB to check the conditions on **each** individual element, we need to use `$elemMatch`:"
   ]
  },
  {
   "cell_type": "code",
   "execution_count": 28,
   "id": "80d9a1cf-a754-4fcd-b661-3b354761e08a",
   "metadata": {},
   "outputs": [
    {
     "data": {
      "text/plain": [
       "[{'_id': ObjectId('6391cf15210a99d148d31811'),\n",
       "  'name': 'Varada',\n",
       "  'grades': [75, 82, 90]}]"
      ]
     },
     "execution_count": 28,
     "metadata": {},
     "output_type": "execute_result"
    }
   ],
   "source": [
    "list(\n",
    "    client['mds']['students'].find(\n",
    "        filter={'grades': {'$elemMatch': {'$gte': 80, '$lte': 85}}}\n",
    "    )\n",
    ")"
   ]
  },
  {
   "attachments": {},
   "cell_type": "markdown",
   "id": "f4e419ff",
   "metadata": {},
   "source": [
    "<br><br><br>"
   ]
  },
  {
   "cell_type": "markdown",
   "id": "21dceff5-7bfc-4d4b-ac5c-969986268f71",
   "metadata": {},
   "source": [
    "### Arrays of sub-documents"
   ]
  },
  {
   "cell_type": "markdown",
   "id": "de29b40b-a323-4f1b-a6ca-35d8032afcaa",
   "metadata": {},
   "source": [
    "Querying sub-documents nested inside an array works a lot like querying arrays with simple elements. Let's take a look at the `instructors` collection of the `mds` database we created earlier:"
   ]
  },
  {
   "cell_type": "code",
   "execution_count": 29,
   "id": "d7b69f4f-5572-49e4-a913-0971d50c08ef",
   "metadata": {},
   "outputs": [
    {
     "data": {
      "text/plain": [
       "[{'_id': ObjectId('6391cf14210a99d148d3180d'),\n",
       "  'name': 'Arman',\n",
       "  'department': {'name': 'Computer Science', 'campus': 'Vancouver'},\n",
       "  'courses': [{'name': 'Algorithms & Data Structures', 'code': 512},\n",
       "   {'name': 'Descriptive Statistics and Probability', 'code': 551}]},\n",
       " {'_id': ObjectId('6391cf14210a99d148d3180e'),\n",
       "  'name': 'Rodolfo',\n",
       "  'department': {'name': 'Statistics', 'campus': 'Vancouver'},\n",
       "  'courses': [{'name': 'Programming for Data Manipulation', 'code': 523},\n",
       "   {'name': 'Data Science Workflows', 'code': 522},\n",
       "   {'name': 'Collaborative Software Development', 'code': 524}]},\n",
       " {'_id': ObjectId('6391cf14210a99d148d3180f'),\n",
       "  'name': 'Alexi',\n",
       "  'department': {'name': 'Statistics', 'campus': 'Vancouver'},\n",
       "  'courses': [{'name': 'Statistical Inference and Computation', 'code': 552},\n",
       "   {'name': 'Regression II', 'code': 562}]}]"
      ]
     },
     "execution_count": 29,
     "metadata": {},
     "output_type": "execute_result"
    }
   ],
   "source": [
    "list(\n",
    "    client['mds']['instructors'].find({})\n",
    ")"
   ]
  },
  {
   "attachments": {},
   "cell_type": "markdown",
   "id": "f4e419ff",
   "metadata": {},
   "source": [
    "<br><br><br>"
   ]
  },
  {
   "attachments": {},
   "cell_type": "markdown",
   "id": "45644399",
   "metadata": {},
   "source": [
    "Let's find instructor(s) who teach DSCI 512:"
   ]
  },
  {
   "cell_type": "code",
   "execution_count": 30,
   "id": "74686ffd-9096-42ec-aeb7-9ea4260a53e7",
   "metadata": {},
   "outputs": [
    {
     "data": {
      "text/plain": [
       "[{'_id': ObjectId('6391cf14210a99d148d3180d'),\n",
       "  'name': 'Arman',\n",
       "  'department': {'name': 'Computer Science', 'campus': 'Vancouver'},\n",
       "  'courses': [{'name': 'Algorithms & Data Structures', 'code': 512},\n",
       "   {'name': 'Descriptive Statistics and Probability', 'code': 551}]}]"
      ]
     },
     "execution_count": 30,
     "metadata": {},
     "output_type": "execute_result"
    }
   ],
   "source": [
    "list(\n",
    "    client['mds']['instructors'].find(\n",
    "        filter={'courses': {'name': 'Algorithms & Data Structures', 'code': 512}}\n",
    "    )\n",
    ")"
   ]
  },
  {
   "attachments": {},
   "cell_type": "markdown",
   "id": "e061d538",
   "metadata": {},
   "source": [
    "Note that the following query fails:"
   ]
  },
  {
   "cell_type": "code",
   "execution_count": 31,
   "id": "9332f334-0312-4d56-8057-055ebd3734d0",
   "metadata": {},
   "outputs": [
    {
     "data": {
      "text/plain": [
       "[]"
      ]
     },
     "execution_count": 31,
     "metadata": {},
     "output_type": "execute_result"
    }
   ],
   "source": [
    "list(\n",
    "    client['mds']['instructors'].find(\n",
    "        filter={'courses': {'code': 512}}\n",
    "    )\n",
    ")"
   ]
  },
  {
   "attachments": {},
   "cell_type": "markdown",
   "id": "9d44ced5-1299-432a-86bb-93a010066c01",
   "metadata": {},
   "source": [
    "because just like arrays, a condition like `{'code': 512}` has to match **an entire sub-document**."
   ]
  },
  {
   "attachments": {},
   "cell_type": "markdown",
   "id": "f4e419ff",
   "metadata": {},
   "source": [
    "<br><br><br>"
   ]
  },
  {
   "cell_type": "markdown",
   "id": "c0a7b616-3bfb-4b46-9092-7bd92134e5af",
   "metadata": {},
   "source": [
    "The easier way is to use the dot notation for reaching into the sub-documents in the array and place a condition on a particular sub-field"
   ]
  },
  {
   "cell_type": "code",
   "execution_count": 32,
   "id": "8f81243c-33b2-4300-9962-93e03fd0b8f7",
   "metadata": {},
   "outputs": [
    {
     "data": {
      "text/plain": [
       "[{'_id': ObjectId('6391cf14210a99d148d3180d'),\n",
       "  'name': 'Arman',\n",
       "  'department': {'name': 'Computer Science', 'campus': 'Vancouver'},\n",
       "  'courses': [{'name': 'Algorithms & Data Structures', 'code': 512},\n",
       "   {'name': 'Descriptive Statistics and Probability', 'code': 551}]}]"
      ]
     },
     "execution_count": 32,
     "metadata": {},
     "output_type": "execute_result"
    }
   ],
   "source": [
    "list(\n",
    "    client['mds']['instructors'].find(\n",
    "        filter={'courses.code': 512}\n",
    "    )\n",
    ")"
   ]
  },
  {
   "attachments": {},
   "cell_type": "markdown",
   "id": "f4e419ff",
   "metadata": {},
   "source": [
    "<br><br><br>"
   ]
  },
  {
   "attachments": {},
   "cell_type": "markdown",
   "id": "aecddfa8-497b-48df-adb8-07c9a0987251",
   "metadata": {},
   "source": [
    "Just like for arrays, **mixed** conditions are checked for **all elements of the array**.\n",
    "\n",
    "For example, in the following although the course code for \"Algorithms & Data Structures\" **is not** 551, the document for Arman is still returned because each condition matches at least one element in the array:"
   ]
  },
  {
   "cell_type": "code",
   "execution_count": 33,
   "id": "0965c4ad-6635-466f-b01d-33e060a0f44c",
   "metadata": {},
   "outputs": [
    {
     "data": {
      "text/plain": [
       "[{'_id': ObjectId('6391cf14210a99d148d3180d'),\n",
       "  'name': 'Arman',\n",
       "  'department': {'name': 'Computer Science', 'campus': 'Vancouver'},\n",
       "  'courses': [{'name': 'Algorithms & Data Structures', 'code': 512},\n",
       "   {'name': 'Descriptive Statistics and Probability', 'code': 551}]}]"
      ]
     },
     "execution_count": 33,
     "metadata": {},
     "output_type": "execute_result"
    }
   ],
   "source": [
    "list(\n",
    "    client['mds']['instructors'].find(\n",
    "        filter={'courses.code': 551, 'courses.name': {'$regex': 'Algorithms'}}\n",
    "    )\n",
    ")"
   ]
  },
  {
   "cell_type": "markdown",
   "id": "35d70b55-db15-45ad-a481-96858a7df55f",
   "metadata": {},
   "source": [
    "We can use `$elemMatch` here too to do an element-by-element condition check:"
   ]
  },
  {
   "cell_type": "code",
   "execution_count": 34,
   "id": "7545b0e1-c8dc-4e23-900d-6e1f7b284b4c",
   "metadata": {},
   "outputs": [
    {
     "data": {
      "text/plain": [
       "[]"
      ]
     },
     "execution_count": 34,
     "metadata": {},
     "output_type": "execute_result"
    }
   ],
   "source": [
    "list(\n",
    "    client['mds']['instructors'].find(\n",
    "        filter={'courses': {'$elemMatch': {'code': 551, 'name': {'$regex': 'Algorithms'}}}}\n",
    "    )\n",
    ")"
   ]
  },
  {
   "cell_type": "markdown",
   "id": "173d2391-6dcc-42dd-89d6-ddafe800649c",
   "metadata": {},
   "source": [
    "And this time it correctly returns nothing, because no document exists that have \"Algorithms & Data Structures\" listed with the code 551."
   ]
  },
  {
   "attachments": {},
   "cell_type": "markdown",
   "id": "f4e419ff",
   "metadata": {},
   "source": [
    "<br><br><br>"
   ]
  },
  {
   "cell_type": "markdown",
   "id": "aac1222c-266a-4ace-8783-8193dbbd6d4b",
   "metadata": {},
   "source": [
    "## Aggregation pipelines"
   ]
  },
  {
   "cell_type": "markdown",
   "id": "8d8be5a0-3d7e-49b9-8a0d-7d10dcd55876",
   "metadata": {},
   "source": [
    "The aggregation framework is one of the most significant features of MongoDB. The aggregation frame work provides an intuitive way for **step-by-step processing of data in the form of multiple stages of a pipeline**.\n",
    "\n",
    "<img src=\"img/lecture8/agg_pipe.png\" width=\"700\">\n",
    "\n",
    "([image source](https://stackoverflow.com/a/39518920))\n",
    "\n",
    "As a matter of fact, all of the queries we have written so far can be written in the context of an aggregation pipeline, with each operation (e.g. filtering, projection, limiting, skipping, counting, etc.) becoming one stage of the pipeline."
   ]
  },
  {
   "attachments": {},
   "cell_type": "markdown",
   "id": "f4e419ff",
   "metadata": {},
   "source": [
    "<br><br><br>"
   ]
  },
  {
   "cell_type": "markdown",
   "id": "78a81269-fc4d-4c09-bdba-32d926f683b3",
   "metadata": {},
   "source": [
    "The syntax of an aggregation pipeline in `pymongo` looks like the following:\n",
    "\n",
    "```python\n",
    "client['database']['collection'].aggregate(\n",
    "    [\n",
    "        stage1,\n",
    "        stage2,\n",
    "        .\n",
    "        .\n",
    "        .\n",
    "    ]\n",
    ")\n",
    "```\n",
    "\n",
    "We can also create an aggregation pipeline using the _Aggregation_ tab in MongoDB Compass. The good thing about using Compass for constructing pipelines is that you can inspect the intermediate results of each stage."
   ]
  },
  {
   "attachments": {},
   "cell_type": "markdown",
   "id": "f4e419ff",
   "metadata": {},
   "source": [
    "<br><br><br>"
   ]
  },
  {
   "cell_type": "markdown",
   "id": "0ecc8078-e727-47cb-a12f-e69e07eda437",
   "metadata": {},
   "source": [
    "There are several different stages of a pipeline offered by MongoDB (see a list [here](https://docs.mongodb.com/manual/reference/operator/aggregation-pipeline/)). Here, we cover the most essential ones.\n",
    "\n",
    "Also, you can find a comprehensive side-by-side comparison of SQL aggregations and MongoDB aggregations [here](https://docs.mongodb.com/manual/reference/sql-aggregation-comparison/) in the MongoDB's documentations."
   ]
  },
  {
   "attachments": {},
   "cell_type": "markdown",
   "id": "f4e419ff",
   "metadata": {},
   "source": [
    "<br><br><br>"
   ]
  },
  {
   "cell_type": "markdown",
   "id": "00063179-a08f-4997-ba0c-f65f7cfecca9",
   "metadata": {},
   "source": [
    "### `$match`"
   ]
  },
  {
   "cell_type": "markdown",
   "id": "5972dec8-4a88-44ba-87d7-7c79a959ad90",
   "metadata": {},
   "source": [
    "The `$match` stage of a pipeline is in charge of filtering the data. The conditions specified in this stage are similar to those we used for the `filter=` argument before."
   ]
  },
  {
   "cell_type": "code",
   "execution_count": 35,
   "id": "c4d09089-146c-4ad8-8afd-d12829912423",
   "metadata": {},
   "outputs": [
    {
     "data": {
      "text/plain": [
       "[{'_id': ObjectId('6391cf14210a99d148d3180e'),\n",
       "  'name': 'Rodolfo',\n",
       "  'department': {'name': 'Statistics', 'campus': 'Vancouver'},\n",
       "  'courses': [{'name': 'Programming for Data Manipulation', 'code': 523},\n",
       "   {'name': 'Data Science Workflows', 'code': 522},\n",
       "   {'name': 'Collaborative Software Development', 'code': 524}]},\n",
       " {'_id': ObjectId('6391cf14210a99d148d3180f'),\n",
       "  'name': 'Alexi',\n",
       "  'department': {'name': 'Statistics', 'campus': 'Vancouver'},\n",
       "  'courses': [{'name': 'Statistical Inference and Computation', 'code': 552},\n",
       "   {'name': 'Regression II', 'code': 562}]}]"
      ]
     },
     "execution_count": 35,
     "metadata": {},
     "output_type": "execute_result"
    }
   ],
   "source": [
    "list(\n",
    "    client['mds']['instructors'].aggregate(\n",
    "        [\n",
    "            {\"$match\": {'department.name': 'Statistics'}}\n",
    "        ]\n",
    "    )\n",
    ")"
   ]
  },
  {
   "attachments": {},
   "cell_type": "markdown",
   "id": "f4e419ff",
   "metadata": {},
   "source": [
    "<br><br><br>"
   ]
  },
  {
   "cell_type": "markdown",
   "id": "1196ea66-eaa2-42f9-8820-a5e92e1146c1",
   "metadata": {},
   "source": [
    "### `$project`"
   ]
  },
  {
   "cell_type": "markdown",
   "id": "8446c0e0-ac8e-40e1-8137-4c8c8be0cd46",
   "metadata": {},
   "source": [
    "We have seen before that projection is used to include or exclude particular attributes in the resulting documents:"
   ]
  },
  {
   "cell_type": "code",
   "execution_count": 36,
   "id": "87afc068-226b-4c05-96fb-3aed61cee8cf",
   "metadata": {},
   "outputs": [
    {
     "data": {
      "text/plain": [
       "[{'name': 'Rodolfo'}, {'name': 'Alexi'}]"
      ]
     },
     "execution_count": 36,
     "metadata": {},
     "output_type": "execute_result"
    }
   ],
   "source": [
    "list(\n",
    "    client['mds']['instructors'].aggregate(\n",
    "        [\n",
    "            {'$match': {'department.name': 'Statistics'}},\n",
    "            {'$project': {'_id': 0, 'name': 1}}\n",
    "        ]\n",
    "    )\n",
    ")"
   ]
  },
  {
   "attachments": {},
   "cell_type": "markdown",
   "id": "f4e419ff",
   "metadata": {},
   "source": [
    "<br><br><br>"
   ]
  },
  {
   "attachments": {},
   "cell_type": "markdown",
   "id": "702c4ece-f855-4721-9e36-46134a8e2f9e",
   "metadata": {},
   "source": [
    "One potentially useful thing we can do using the `$project` stage is **sub-field promotion**.\n",
    "\n",
    "For example, suppose that we want the name of each instructor, as well as the name of their department to appear as a top-level field with a custom name. We can achieve this using the following:"
   ]
  },
  {
   "cell_type": "code",
   "execution_count": 37,
   "id": "1b416b4c-bf8c-4236-bb19-7cfb208be0ac",
   "metadata": {},
   "outputs": [
    {
     "data": {
      "text/plain": [
       "[{'name': 'Arman', 'dept_name': 'Computer Science'},\n",
       " {'name': 'Rodolfo', 'dept_name': 'Statistics'},\n",
       " {'name': 'Alexi', 'dept_name': 'Statistics'}]"
      ]
     },
     "execution_count": 37,
     "metadata": {},
     "output_type": "execute_result"
    }
   ],
   "source": [
    "list(\n",
    "    client['mds']['instructors'].aggregate(\n",
    "        [\n",
    "            {'$project': {'_id': 0, 'name': 1, 'dept_name': '$department.name'}}\n",
    "        ]\n",
    "    )\n",
    ")"
   ]
  },
  {
   "cell_type": "markdown",
   "id": "bc80fc61-014c-477a-932d-34af50c50d6e",
   "metadata": {},
   "source": [
    "> Note the usage of `$` in `'$department.name'`. Here we're referring to the values of the `department.name` field. If we don't prefix `department.name` with `$`, we'll get a static string in the output."
   ]
  },
  {
   "attachments": {},
   "cell_type": "markdown",
   "id": "f4e419ff",
   "metadata": {},
   "source": [
    "<br><br><br>"
   ]
  },
  {
   "cell_type": "markdown",
   "id": "71bc7b28-201d-431d-bca2-e6ba1fa39f22",
   "metadata": {},
   "source": [
    "### `$sort`, `$limit`, `$skip`"
   ]
  },
  {
   "cell_type": "markdown",
   "id": "612814df-c71d-42fb-b8df-092b64ad1f51",
   "metadata": {},
   "source": [
    "We've already seen examples of sorting, skipping and limiting results. Here's an example within the context of aggregation pipelines:"
   ]
  },
  {
   "cell_type": "code",
   "execution_count": 38,
   "id": "896fe48e-d475-4d41-9b0d-1e0dfb71cb0b",
   "metadata": {},
   "outputs": [
    {
     "data": {
      "text/plain": [
       "[{'imdb': {'votes': 1521105}, 'title': 'The Shawshank Redemption'},\n",
       " {'imdb': {'votes': 1513145}, 'title': 'The Shawshank Redemption'},\n",
       " {'imdb': {'votes': 1495351}, 'title': 'The Dark Knight'},\n",
       " {'imdb': {'votes': 1294646}, 'title': 'Inception'},\n",
       " {'imdb': {'votes': 1191784}, 'title': 'Fight Club'},\n",
       " {'imdb': {'votes': 1179033}, 'title': 'Pulp Fiction'},\n",
       " {'imdb': {'votes': 1109724},\n",
       "  'title': 'The Lord of the Rings: The Fellowship of the Ring'},\n",
       " {'imdb': {'votes': 1087227}, 'title': 'Forrest Gump'},\n",
       " {'imdb': {'votes': 1081144},\n",
       "  'title': 'The Lord of the Rings: The Return of the King'},\n",
       " {'imdb': {'votes': 1080566}, 'title': 'The Matrix'}]"
      ]
     },
     "execution_count": 38,
     "metadata": {},
     "output_type": "execute_result"
    }
   ],
   "source": [
    "list(\n",
    "    client[\"sample_mflix\"][\"movies\"].aggregate(\n",
    "        [\n",
    "            {\"$match\": {\"imdb.votes\": {\"$ne\": \"\"}}},\n",
    "            {\"$project\": {\"_id\": 0, \"title\": 1, \"imdb.votes\": 1}},\n",
    "            {\"$sort\": {\"imdb.votes\": -1}},\n",
    "            {'$limit': 10},\n",
    "        ]\n",
    "    )\n",
    ")"
   ]
  },
  {
   "attachments": {},
   "cell_type": "markdown",
   "id": "f4e419ff",
   "metadata": {},
   "source": [
    "<br><br><br>"
   ]
  },
  {
   "cell_type": "markdown",
   "id": "b9e5cb6a-05e2-4ef4-a627-58ebdd786e50",
   "metadata": {},
   "source": [
    "### `$count`"
   ]
  },
  {
   "cell_type": "markdown",
   "id": "9303077e-e223-418b-ac2d-a192a94132a3",
   "metadata": {},
   "source": [
    "This stage is to count the number of all output documents. Note that this operator can't be used to count groups of rows within the `$group` operator."
   ]
  },
  {
   "cell_type": "code",
   "execution_count": 39,
   "id": "a1515ceb-9f1f-4672-8404-724596d3cf9e",
   "metadata": {},
   "outputs": [
    {
     "data": {
      "text/plain": [
       "[{'count_output_docs': 12}]"
      ]
     },
     "execution_count": 39,
     "metadata": {},
     "output_type": "execute_result"
    }
   ],
   "source": [
    "list(\n",
    "    client[\"sample_mflix\"][\"movies\"].aggregate(\n",
    "        [\n",
    "            {\"$match\": {\"imdb.votes\": {\"$gt\": 1000000}}},\n",
    "            {\"$count\": \"count_output_docs\"},\n",
    "        ]\n",
    "    )\n",
    ")"
   ]
  },
  {
   "attachments": {},
   "cell_type": "markdown",
   "id": "f4e419ff",
   "metadata": {},
   "source": [
    "<br><br><br>"
   ]
  },
  {
   "cell_type": "markdown",
   "id": "2cb6f453-fa32-4f1e-94ce-f51da6768d91",
   "metadata": {},
   "source": [
    "### `$group`"
   ]
  },
  {
   "attachments": {},
   "cell_type": "markdown",
   "id": "d96a0737-3b94-44f6-9378-d7714f7592b7",
   "metadata": {},
   "source": [
    "This operator performs grouping of documents based on values in desired fields, and is very similar to the `GROUP BY` clause in SQL. Here is its syntax:\n",
    "\n",
    "```\n",
    "'$group':{\n",
    "    '_id': field,\n",
    "    aggregated_field: {accumulator: expression}\n",
    "}\n",
    "```"
   ]
  },
  {
   "cell_type": "markdown",
   "id": "57422334-1daf-4ecf-a040-0ee6a3f9b00f",
   "metadata": {},
   "source": [
    "The `_id` field stores the distinct values found in `field`, based on which the grouping operation is performed. It acts as the primary key of the output documents."
   ]
  },
  {
   "cell_type": "code",
   "execution_count": 40,
   "id": "8b5ca5c6-8352-498d-b49c-fa26061131a9",
   "metadata": {},
   "outputs": [
    {
     "data": {
      "text/plain": [
       "[{'_id': 'series', 'count_each_type': 254},\n",
       " {'_id': 'movie', 'count_each_type': 23276}]"
      ]
     },
     "execution_count": 40,
     "metadata": {},
     "output_type": "execute_result"
    }
   ],
   "source": [
    "list(\n",
    "    client[\"sample_mflix\"][\"movies\"].aggregate(\n",
    "        [\n",
    "            {'$group': {\n",
    "                '_id': '$type',\n",
    "                'count_each_type': {'$sum': 1}\n",
    "            }}\n",
    "        ]\n",
    "    )\n",
    ")"
   ]
  },
  {
   "attachments": {},
   "cell_type": "markdown",
   "id": "f4e419ff",
   "metadata": {},
   "source": [
    "<br><br><br>"
   ]
  },
  {
   "cell_type": "markdown",
   "id": "b26c9334-9838-41ec-a425-9c97bc3a839d",
   "metadata": {},
   "source": [
    "### `$unwind`"
   ]
  },
  {
   "attachments": {},
   "cell_type": "markdown",
   "id": "6bffbfea-68ba-4c66-bc53-8aad8ac80843",
   "metadata": {},
   "source": [
    "Grouping by simple fields worked well. Things are a little bit trickier **if we want to aggregate based on values stored in arrays**.\n",
    "\n",
    "For example, if we want to obtain the average IMDB score of movies played by each actor/actress, creating a grouping stage like the following wouldn't work:\n",
    "\n",
    "```\n",
    "{'$group': {\n",
    "    '_id': '$cast',\n",
    "    'avg_imdb_rating': {'$avg': '$imdb.rating'}\n",
    "}}\n",
    "```\n",
    "\n",
    "The reason is, `$group` looks for exactly similar values stored in each field, and in this case it looks for similar documents that have exactly the cast, in the exact same order. This is obviously not what we want."
   ]
  },
  {
   "attachments": {},
   "cell_type": "markdown",
   "id": "f4e419ff",
   "metadata": {},
   "source": [
    "<br><br><br>"
   ]
  },
  {
   "attachments": {},
   "cell_type": "markdown",
   "id": "9f81a782",
   "metadata": {},
   "source": [
    "For these situations, there is an operator called `$unwind`, which basically **deconstructs** an array. The way it works is that **it creates copies of a document for each value of a desired array**. After doing this, the field containing an array gets converted to a simple field, and we can do the grouping as we are used to!"
   ]
  },
  {
   "attachments": {},
   "cell_type": "markdown",
   "id": "f4e419ff",
   "metadata": {},
   "source": [
    "<br><br><br>"
   ]
  },
  {
   "cell_type": "markdown",
   "id": "dbf0f3bb-a149-433f-b401-15fe72ed213f",
   "metadata": {},
   "source": [
    "Let me show you what `$unwind` does for our very simple `students` collection of the `mds` database. Let's take a look at the collection again:"
   ]
  },
  {
   "cell_type": "code",
   "execution_count": 41,
   "id": "0c11ccea-9834-42f6-aec9-1f166a9c3d92",
   "metadata": {},
   "outputs": [
    {
     "data": {
      "text/plain": [
       "[{'_id': ObjectId('6391cf15210a99d148d31810'),\n",
       "  'name': 'Quan',\n",
       "  'grades': [79, 87, 97]},\n",
       " {'_id': ObjectId('6391cf15210a99d148d31811'),\n",
       "  'name': 'Varada',\n",
       "  'grades': [75, 82, 90]},\n",
       " {'_id': ObjectId('6391cf15210a99d148d31812'),\n",
       "  'name': 'Florencia',\n",
       "  'grades': [92, 93, 77]}]"
      ]
     },
     "execution_count": 41,
     "metadata": {},
     "output_type": "execute_result"
    }
   ],
   "source": [
    "list(\n",
    "    client['mds']['students'].find(\n",
    "        filter={}\n",
    "    )\n",
    ")"
   ]
  },
  {
   "attachments": {},
   "cell_type": "markdown",
   "id": "72d4ada6-e546-4955-9485-d442350c36e3",
   "metadata": {},
   "source": [
    "And now let's unwind the `grades` field:"
   ]
  },
  {
   "cell_type": "code",
   "execution_count": 42,
   "id": "c47ce320-5379-45c6-a88c-dc8a91f5444a",
   "metadata": {},
   "outputs": [
    {
     "data": {
      "text/plain": [
       "[{'name': 'Quan', 'grades': 79},\n",
       " {'name': 'Quan', 'grades': 87},\n",
       " {'name': 'Quan', 'grades': 97},\n",
       " {'name': 'Varada', 'grades': 75},\n",
       " {'name': 'Varada', 'grades': 82},\n",
       " {'name': 'Varada', 'grades': 90},\n",
       " {'name': 'Florencia', 'grades': 92},\n",
       " {'name': 'Florencia', 'grades': 93},\n",
       " {'name': 'Florencia', 'grades': 77}]"
      ]
     },
     "execution_count": 42,
     "metadata": {},
     "output_type": "execute_result"
    }
   ],
   "source": [
    "list(\n",
    "    client['mds']['students'].aggregate(\n",
    "        [\n",
    "            {'$unwind': '$grades'},\n",
    "            {'$project': {'_id': 0}}\n",
    "        ]\n",
    "    )\n",
    ")"
   ]
  },
  {
   "cell_type": "markdown",
   "id": "84d49de9-d592-4e96-a644-40cf44e377ff",
   "metadata": {},
   "source": [
    "Voila, we can now easily add a `$group` stage to, for example, compute the average of all grades for each student."
   ]
  },
  {
   "cell_type": "code",
   "execution_count": 43,
   "id": "57bf1123-fe93-4566-b9cd-8b3b57214198",
   "metadata": {},
   "outputs": [
    {
     "data": {
      "text/plain": [
       "[{'_id': 'Varada', 'avg_grade': 82.33333333333333},\n",
       " {'_id': 'Quan', 'avg_grade': 87.66666666666667},\n",
       " {'_id': 'Florencia', 'avg_grade': 87.33333333333333}]"
      ]
     },
     "execution_count": 43,
     "metadata": {},
     "output_type": "execute_result"
    }
   ],
   "source": [
    "list(\n",
    "    client['mds']['students'].aggregate(\n",
    "        [\n",
    "            {'$unwind': '$grades'},\n",
    "            {'$group':{\n",
    "                '_id': '$name',\n",
    "                 'avg_grade': {'$avg': '$grades'}\n",
    "            }}\n",
    "        ]\n",
    "    )\n",
    ")"
   ]
  }
 ],
 "metadata": {
  "kernelspec": {
   "display_name": "Python 3.11.0 ('dsci513')",
   "language": "python",
   "name": "python3"
  },
  "language_info": {
   "codemirror_mode": {
    "name": "ipython",
    "version": 3
   },
   "file_extension": ".py",
   "mimetype": "text/x-python",
   "name": "python",
   "nbconvert_exporter": "python",
   "pygments_lexer": "ipython3",
   "version": "3.11.0"
  },
  "vscode": {
   "interpreter": {
    "hash": "020375d9aeeb41ded8500965dd92c25c8dda33f089c2e03c1c8153c8d5ece307"
   }
  }
 },
 "nbformat": 4,
 "nbformat_minor": 5
}
