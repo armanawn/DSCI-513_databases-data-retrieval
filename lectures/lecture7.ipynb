{
 "cells": [
  {
   "cell_type": "markdown",
   "id": "e7e5b275-7b0a-4527-95f3-8dff0982b495",
   "metadata": {},
   "source": [
    "<img src=\"img/dsci513_header2.png\" width=\"600\">"
   ]
  },
  {
   "cell_type": "markdown",
   "id": "35f359f6-6f6b-4ca1-9987-daa6fa757c84",
   "metadata": {},
   "source": [
    "# Lecture 7: Introduction to non-relational databases"
   ]
  },
  {
   "cell_type": "markdown",
   "id": "6f73cce4-b81b-4f10-b8bf-c3d1409ce933",
   "metadata": {},
   "source": [
    "## Lecture outline\n",
    "\n",
    "- Relational vs non-relational databases\n",
    "- MongoDB: a NoSQL database management system\n",
    "- Basic queries in MongoDB"
   ]
  },
  {
   "cell_type": "markdown",
   "id": "87a05ff6",
   "metadata": {},
   "source": [
    "<br><br><br>"
   ]
  },
  {
   "cell_type": "markdown",
   "id": "87a5224f-b3a0-49b4-a65b-ff232e9e3b15",
   "metadata": {},
   "source": [
    "We covered relational databases in 6 lectures, and are dedicating only 2 lectures to NoSQL databases. A few reasons:\n",
    "\n",
    "- Many concepts are shared between relational and non-relational databases (this extends even to the SQL syntax itself in some cases, e.g. SQL syntax used in Hive and Couchbase)\n",
    "\n",
    "- The theory behind SQL is a little bit more involved and takes more time to feel comfortable with\n",
    "\n",
    "- Relational databases are more common, and all of them share the same query language"
   ]
  },
  {
   "cell_type": "markdown",
   "id": "87a05ff6",
   "metadata": {},
   "source": [
    "<br><br><br>"
   ]
  },
  {
   "cell_type": "markdown",
   "id": "8e78d354-62b1-4bde-b677-910d5b7166f8",
   "metadata": {},
   "source": [
    "## Relational databases"
   ]
  },
  {
   "cell_type": "markdown",
   "id": "56d63dad-1198-400e-a7ba-8886a1b54be8",
   "metadata": {},
   "source": [
    "Remember we talked about why everything is not stored in a single table?\n",
    "\n",
    "The relational model is designed to enable the database to enforce referential integrity between tables in the database, normalized to reduce the redundancy, and generally optimized for storage."
   ]
  },
  {
   "cell_type": "markdown",
   "id": "87a05ff6",
   "metadata": {},
   "source": [
    "<br><br><br>"
   ]
  },
  {
   "cell_type": "markdown",
   "id": "e9e00187-b4eb-45fc-a7c2-9aa62ac35aae",
   "metadata": {},
   "source": [
    "### Importance of normalization"
   ]
  },
  {
   "cell_type": "markdown",
   "id": "2846c03d-12ec-44e3-ab07-e7fb5cf90e01",
   "metadata": {},
   "source": [
    "Normalization is the process of designing tables and relationships in a database such that there are no unnecessary duplication of data and update anomalies are minimized.\n",
    "\n",
    "Relational databases are usually normalized to ensure that\n",
    "\n",
    "- Redundancies are eliminated or minimized\n",
    "\n",
    "- Data integrity can be maintained with ease\n",
    "\n",
    "[Here](https://towardsdatascience.com/database-normalization-explained-53e60a494495) is a great blog post that works through an example of normalizing a database.\n",
    "\n",
    "- Relational databases are best suited to applications where **strong consistency/integrity** is needed, and the nature of operations is transactional.\n",
    "\n",
    "- **But there is a price to pay**: relational databases require significant upfront design and preparation."
   ]
  },
  {
   "cell_type": "markdown",
   "id": "87a05ff6",
   "metadata": {},
   "source": [
    "<br><br><br>"
   ]
  },
  {
   "cell_type": "markdown",
   "id": "bfab62d7-3674-43cc-a513-8722ec1e52fb",
   "metadata": {
    "jp-MarkdownHeadingCollapsed": true,
    "tags": []
   },
   "source": [
    "### The problem of scaling\n",
    "\n",
    "A major problem with relational databases is that if we need to provide service to a larger user base, or if our database grows in size, vertical scaling is our best option."
   ]
  },
  {
   "cell_type": "markdown",
   "id": "0ff058b1",
   "metadata": {},
   "source": [
    "- **Vertical scaling (or scaling up):** Buying a more powerful server with more CPU, RAM, and disk space. However, you can only go so far by scaling vertically. Ultimately, there is a point where no one single server can serve our needs, no matter how powerful it is."
   ]
  },
  {
   "cell_type": "markdown",
   "id": "6127d838",
   "metadata": {},
   "source": [
    "- **Horizontal scaling (or scaling out):** Buying many cheap (commodity) computers to store and process our data. With horizontal scaling, there is no theoretical limit as to how much you can scale your database service."
   ]
  },
  {
   "cell_type": "markdown",
   "id": "70e4a09e",
   "metadata": {},
   "source": [
    "<img src=\"img/lecture7/scale_up_out.png\" width=\"600\">\n",
    "\n",
    "([image source](https://www.cloudzero.com/blog/horizontal-vs-vertical-scaling))"
   ]
  },
  {
   "cell_type": "markdown",
   "id": "1dac10a3",
   "metadata": {},
   "source": [
    "> Horizontal scaling is the core idea of the new paradigm of distributed computing and storage systems."
   ]
  },
  {
   "cell_type": "markdown",
   "id": "87a05ff6",
   "metadata": {},
   "source": [
    "<br><br><br>"
   ]
  },
  {
   "cell_type": "markdown",
   "id": "a28bd1e9-d169-436f-a5bd-ab58cf433c76",
   "metadata": {},
   "source": [
    "### Distribution models\n",
    "\n",
    "Why do we need to scale our DBMS resources?\n",
    "\n",
    "- To increase availability\n",
    "\n",
    "  - Replication: the same data is copied over multiple nodes\n",
    "\n",
    "<br>\n",
    "\n",
    "- To store big data\n",
    "\n",
    "  - Sharding (or partitioning): different data chunks are put on different nodes"
   ]
  },
  {
   "cell_type": "markdown",
   "id": "87a05ff6",
   "metadata": {},
   "source": [
    "<br><br><br>"
   ]
  },
  {
   "cell_type": "markdown",
   "id": "df362036-da74-4231-99c3-e94ec31f3ad8",
   "metadata": {},
   "source": [
    "### Downsides of relational databases\n",
    "\n",
    "- Relational databases have fixed, inflexible data models, and are therefore not suitable for rapid evolution and development.\n",
    "\n",
    "- Limited to one powerful servers. Usually scaling up is the only option."
   ]
  },
  {
   "cell_type": "markdown",
   "id": "87a05ff6",
   "metadata": {},
   "source": [
    "<br><br><br>"
   ]
  },
  {
   "cell_type": "markdown",
   "id": "dc7f2d6c-61cd-4312-9e14-098a9e0d6a64",
   "metadata": {},
   "source": [
    "## Non-relational databases\n",
    "\n",
    "Non-relational or NoSQL databases store data in a different format than relational databases. NoSQL stands for _Non SQL_ or _Not only SQL_.\n",
    "\n",
    "- The data model can evolve as the requirements change. In other words, the schema is flexible\n",
    "\n",
    "- Horizontal scaling is built in\n",
    "- Queries are fast due to the data model (at the expense of redundancy). Relevant information is kept together rather than doing joins, which enhances the performance. Data models in NoSQL databases are typically optimized for queries and not for reducing data duplication."
   ]
  },
  {
   "cell_type": "markdown",
   "id": "87a05ff6",
   "metadata": {},
   "source": [
    "<br><br><br>"
   ]
  },
  {
   "cell_type": "markdown",
   "id": "8a2cbaf2",
   "metadata": {},
   "source": [
    "There was eventually a time that storage costs were not as significant anymore. Also, internet and the age of data appeared. The dynamic nature of many of today’s applications called for new database systems that were able to handle large amounts of data together with flexibility in their structure.\n",
    "\n",
    "<img src=\"img/lecture7/storage_cost.png\" width=\"600\">\n",
    "\n",
    "([image source](https://www.mongodb.com/nosql-explained))\n",
    "\n",
    "It's important to note that:\n",
    "\n",
    "- NoSQL databases are generally capable of storing relationship data, but they do it differently from RDBMSs\n",
    "\n",
    "- NoSQL databases can support ACID too (e.g. MongoDB supports ACID)."
   ]
  },
  {
   "cell_type": "markdown",
   "id": "925e199c-c4c4-4d35-aad4-50a7628a4cfd",
   "metadata": {},
   "source": [
    "One important downside of NoSQL databases is that their query language is not standardized like SQL. Therefore, each NoSQL DBMS has its own query language. Some NoSQL DBMSs (e.g. Couchbase, Hive) support a SQL-like query language."
   ]
  },
  {
   "cell_type": "markdown",
   "id": "87a05ff6",
   "metadata": {},
   "source": [
    "<br><br><br>"
   ]
  },
  {
   "cell_type": "markdown",
   "id": "399c24ec-ebad-4eb6-8128-51e36de3a08a",
   "metadata": {},
   "source": [
    "### Different kinds of NoSQL DBMSs\n",
    "\n",
    "> \"All happy families are alike; each unhappy family is unhappy in its own way.\"<br>\n",
    "> — Leo Tolstoy in _Anna Karenina_ (1877)\n",
    "\n",
    "While relational databases are all more or less alike, each NoSQL database is non-relational in its own way:\n",
    "\n",
    "- Key-value\n",
    "  - Consists of only key-value pairs\n",
    "  \n",
    "  - Good for querying only by key\n",
    "  - Good if all data of each key is usually needed\n",
    "  - Not good for querying by data\n",
    "  - Example: Amazon DynamoDB\n",
    "\n",
    "<br>\n",
    "\n",
    "- Document-based\n",
    "\n",
    "  - Consists of documents and nested sub-documents (e.g. JSON, XML)\n",
    "  \n",
    "  - Good for querying by keys and data\n",
    "  - Good for hierarchical tree structures\n",
    "  - Example: MongoDB, Couchbase\n",
    "\n",
    "<br>\n",
    "\n",
    "- Graph\n",
    "\n",
    "  - Focuses on relationships between data\n",
    "  \n",
    "  - Optimized for searching connections, avoids joins\n",
    "  - Few applications, run alongside other DBMSs\n",
    "  - Example: Amazon Neptune, Neo4j, OrientDB\n",
    "\n",
    "<br>\n",
    "\n",
    "- Column-oriented\n",
    "\n",
    "  - Optimized for columnar access to data (as opposed to row-wise access in RDBMSs)\n",
    "  \n",
    "  - Example: Google BigTable, Cassandra"
   ]
  },
  {
   "cell_type": "markdown",
   "id": "87a05ff6",
   "metadata": {},
   "source": [
    "<br><br><br>"
   ]
  },
  {
   "cell_type": "markdown",
   "id": "ff30d6bf-4406-45b5-817c-0f6bd041bec0",
   "metadata": {},
   "source": [
    "## MongoDB"
   ]
  },
  {
   "cell_type": "markdown",
   "id": "50df093e-d7b5-4c27-b07a-fb641ec207b5",
   "metadata": {},
   "source": [
    "<img src=\"img/lecture7/mongo.png\" width=\"400\">\n",
    "\n",
    "MongoDB is a document-based DBMS:\n",
    "\n",
    "- Released in 2009\n",
    "\n",
    "- Written in C++\n",
    "- Open source\n",
    "- Cross platform\n",
    "- Super fast"
   ]
  },
  {
   "cell_type": "markdown",
   "id": "87a05ff6",
   "metadata": {},
   "source": [
    "<br><br><br>"
   ]
  },
  {
   "cell_type": "markdown",
   "id": "33b04148",
   "metadata": {},
   "source": [
    "MongoDB is based on **JSON-like documents** for data storage. It offers:\n",
    "\n",
    "- Native replication and sharding\n",
    "\n",
    "- Automatic scaling and load balancing\n",
    "- Multi-language support\n",
    "- Powerful query language"
   ]
  },
  {
   "cell_type": "markdown",
   "id": "87a05ff6",
   "metadata": {},
   "source": [
    "<br><br><br>"
   ]
  },
  {
   "cell_type": "markdown",
   "id": "59435ff0-27a0-444d-9773-24ba631f70f0",
   "metadata": {},
   "source": [
    "### Who uses MongoDB"
   ]
  },
  {
   "cell_type": "markdown",
   "id": "86a8c0a1-aba4-40aa-826e-0dd3e34ec50a",
   "metadata": {},
   "source": [
    "Google, ebay, Craigslist, Toyota, Forbes, Electronic Arts, Adobe, AstraZeneca, and the list goes on.\n",
    "\n",
    "(https://www.mongodb.com/who-uses-mongodb)"
   ]
  },
  {
   "cell_type": "markdown",
   "id": "87a05ff6",
   "metadata": {},
   "source": [
    "<br><br><br>"
   ]
  },
  {
   "cell_type": "markdown",
   "id": "dfc97a0f-11d7-4dbc-8628-0c161eff8a91",
   "metadata": {
    "tags": []
   },
   "source": [
    "### JSON\n",
    "\n",
    "- JSON is short for _Java Script Object Notation_.\n",
    "\n",
    "- JSON documents are simple containers, where a string key is mapped to a value (e.g. a number, string, function, another object).\n",
    "\n",
    "```json\n",
    "{\n",
    "  \"_id\": 1,\n",
    "  \"name\" : { \"first\" : \"John\", \"last\" : \"Backus\" },\n",
    "  \"contribs\" : [ \"Fortran\", \"ALGOL\", \"Backus-Naur Form\", \"FP\" ],\n",
    "  \"awards\" : [\n",
    "    {\n",
    "      \"award\" : \"W.W. McDowell Award\",\n",
    "      \"year\" : 1967,\n",
    "      \"by\" : \"IEEE Computer Society\"\n",
    "    }, {\n",
    "      \"award\" : \"Draper Prize\",\n",
    "      \"year\" : 1993,\n",
    "      \"by\" : \"National Academy of Engineering\"\n",
    "    }\n",
    "  ]\n",
    "}\n",
    "```\n",
    "\n",
    "JSON documents can be found everywhere:\n",
    "\n",
    "- APIs\n",
    "\n",
    "- Configuration files\n",
    "- Log messages\n",
    "- Database storage"
   ]
  },
  {
   "cell_type": "markdown",
   "id": "87a05ff6",
   "metadata": {},
   "source": [
    "<br><br><br>"
   ]
  },
  {
   "cell_type": "markdown",
   "id": "da1bf319-42db-49db-a00f-5b28a93718a8",
   "metadata": {},
   "source": [
    "### BSON\n",
    "\n",
    "Although the JSON document may look great for storing data **_as is_**, but it has a number of drawbacks:\n",
    "\n",
    "- JSON is text, and text parsing is very slow\n",
    "\n",
    "- JSON’s format is readable but not space-efficient (a database concern)\n",
    "- JSON's support of various data types is not great\n",
    "\n",
    "It's because of the above reasons that MongoDB stores data in BSON (Binary JSON) files, which address all of the above issues but still look like JSON when we work with them in MongoDB.\n",
    "\n",
    "For a an overview, see [here](https://www.mongodb.com/json-and-bson)."
   ]
  },
  {
   "cell_type": "markdown",
   "id": "87a05ff6",
   "metadata": {},
   "source": [
    "<br><br><br>"
   ]
  },
  {
   "cell_type": "markdown",
   "id": "c9c30254-16da-48d9-993d-d658f8afd24c",
   "metadata": {},
   "source": [
    "### Collections\n",
    "\n",
    "In MongoDB, a database consists of one or more **collections**, each containing multiple **documents**.\n",
    "\n",
    "<img src=\"img/lecture7/collection.png\" width=\"600\">"
   ]
  },
  {
   "cell_type": "markdown",
   "id": "87a05ff6",
   "metadata": {},
   "source": [
    "<br><br><br>"
   ]
  },
  {
   "cell_type": "markdown",
   "id": "e444423b-28ba-4457-a068-dfc10a7e78ba",
   "metadata": {},
   "source": [
    "### Documents"
   ]
  },
  {
   "cell_type": "markdown",
   "id": "f68bb4b7-72a8-4429-bd56-f4e09cdfdd9d",
   "metadata": {},
   "source": [
    "<img src=\"img/lecture7/document.png\" width=\"600\">\n",
    "\n",
    "- Each document contains field-value pairs\n",
    "\n",
    "- The field name `_id` acts as the primary key of each document, and should therefore be unique in a collection\n",
    "- MongoDB automatically assigns an `_id` value if not specified at the time of inserting a document\n",
    "- MongoDB creates an index on the `_id` field by default\n",
    "- The maximum size of a BSON document is about 16MB"
   ]
  },
  {
   "cell_type": "markdown",
   "id": "87a05ff6",
   "metadata": {},
   "source": [
    "<br><br><br>"
   ]
  },
  {
   "cell_type": "markdown",
   "id": "b1fdb76f-3977-4f1a-9ff7-b7762bf358f3",
   "metadata": {},
   "source": [
    "### MongoDB Atlas"
   ]
  },
  {
   "cell_type": "markdown",
   "id": "93fde982-222b-4202-90a8-f95b43643428",
   "metadata": {},
   "source": [
    "[MongoDB Atlas](https://docs.atlas.mongodb.com/) is a fully managed cloud database service, that automates the whole process of configuring, administration and maintaining of a database server for you. Basically, you specify what kind of server (CPU, RAM, number of nodes, location, etc.) you need, and MongoDB Atlas sets it up for you. They've partnered with Amazon Web Services, Google Cloud Platform, Microsoft Azure to host their database instances.\n",
    "\n",
    "The majority of these services are paid, however, they also offer a basic database service that is **free** and is best suited for learning and exploring. We'll use the free MongoDB Atlas clusters for our course. You can set up your own cluster [here](https://www.mongodb.com/cloud/atlas/register)."
   ]
  },
  {
   "cell_type": "markdown",
   "id": "87a05ff6",
   "metadata": {},
   "source": [
    "<br><br><br>"
   ]
  },
  {
   "cell_type": "markdown",
   "id": "4b701558-6efc-4969-97aa-4eb8ee53d016",
   "metadata": {},
   "source": [
    "### MongoDB interfaces"
   ]
  },
  {
   "cell_type": "markdown",
   "id": "472b8914-788e-40be-a7f9-4dc6ced8cad3",
   "metadata": {},
   "source": [
    "#### MongoDB shell (`mongosh`)"
   ]
  },
  {
   "cell_type": "markdown",
   "id": "c5612214-d605-4fb2-82e0-b2f06186f260",
   "metadata": {},
   "source": [
    "This is command line interface for interacting with a MongoDB database, similar to `psql` that we've used for Postgres. `mongosh` is based on the JavaScript language. We will not use `mongosh` much in this course."
   ]
  },
  {
   "cell_type": "markdown",
   "id": "cc15e47e-1bf0-4498-afb9-bfc5e6943fd6",
   "metadata": {},
   "source": [
    "#### MongoDB Compass"
   ]
  },
  {
   "cell_type": "markdown",
   "id": "90d9ae26-63c1-4375-aeda-c1c503a511b3",
   "metadata": {},
   "source": [
    "Compass is a versatile graphical user interface for using MongoDB databases. This is a similar application to pgAdmin that we've used for Postgres."
   ]
  },
  {
   "cell_type": "markdown",
   "id": "002f3889-b837-4607-b36b-f17f494c24d1",
   "metadata": {},
   "source": [
    "#### MongoDB's Python driver (`pymongo`)"
   ]
  },
  {
   "cell_type": "markdown",
   "id": "35e33594-92c9-42a2-8bed-fa07027accf2",
   "metadata": {},
   "source": [
    "And finally, `pymongo` is the official Python driver for MongoDB. If your using the course `conda` environment, this package is installed and ready to use in Jupyter Lab. You can take a look at `pymongo`s documentation [here](https://pymongo.readthedocs.io/en/stable/tutorial.html)."
   ]
  },
  {
   "cell_type": "code",
   "execution_count": 14,
   "id": "c99e4043-ab1d-4967-9b37-aa694a951685",
   "metadata": {},
   "outputs": [],
   "source": [
    "from pymongo import MongoClient\n",
    "import json\n",
    "\n",
    "with open('data/credentials_mongodb.json') as f:\n",
    "    login = json.load(f)"
   ]
  },
  {
   "cell_type": "code",
   "execution_count": 15,
   "id": "e147fbcb",
   "metadata": {},
   "outputs": [],
   "source": [
    "client = MongoClient(**login)  # for remote DB instance\n",
    "# client = MongoClient(host='localhost', port=27017)  # for local DB instance"
   ]
  },
  {
   "cell_type": "markdown",
   "id": "87a05ff6",
   "metadata": {},
   "source": [
    "<br><br><br>"
   ]
  },
  {
   "cell_type": "markdown",
   "id": "e691ecb3-8795-4e77-a900-86b99d87e423",
   "metadata": {},
   "source": [
    "## MongoDB query language (MQL)"
   ]
  },
  {
   "cell_type": "markdown",
   "id": "c959af2b-a43f-4a58-b656-d20b7369e5cb",
   "metadata": {},
   "source": [
    "<img src=\"img/lecture7/nosql.png\" width=\"400\">\n",
    "\n",
    "([image source](https://dataedo.com/cartoon/it-is-nosql))\n",
    "\n",
    "As mentioned earlier, there is no standard query language among NoSQL DBMSs. This is because each NoSQL DBMS supports a different data model and obviously no one language can suit all data models.\n",
    "\n",
    "MongoDB has its own query language known as MongoDB Query Language or MQL. I will walk you through the usage of MQL in the remainder of this lecture."
   ]
  },
  {
   "cell_type": "markdown",
   "id": "87a05ff6",
   "metadata": {},
   "source": [
    "<br><br><br>"
   ]
  },
  {
   "cell_type": "markdown",
   "id": "cf2ab2fc-a6fb-49c9-a693-2a8a405d7708",
   "metadata": {},
   "source": [
    "### Accessing databases and collections"
   ]
  },
  {
   "cell_type": "markdown",
   "id": "d127efb2-e7cf-4391-ab80-2396d369521c",
   "metadata": {},
   "source": [
    "Here is how we can access databases through different interfaces.\n",
    "\n",
    "**Compass**:\n",
    "\n",
    "It's just point and click. I'll demo this in class.\n",
    "\n",
    "**`mongosh`**:\n",
    "```js\n",
    "show dbs\n",
    "use my_db\n",
    "```"
   ]
  },
  {
   "cell_type": "markdown",
   "id": "8688c732-cdea-4ab6-b524-180af522041f",
   "metadata": {},
   "source": [
    "**`pymongo`**:"
   ]
  },
  {
   "cell_type": "code",
   "execution_count": 16,
   "id": "1d989d10-430b-4cd4-bd17-38c76d220be6",
   "metadata": {},
   "outputs": [
    {
     "data": {
      "text/plain": [
       "Database(MongoClient(host=['ac-sbhdkey-shard-00-00.jkqvsli.mongodb.net:27017', 'ac-sbhdkey-shard-00-01.jkqvsli.mongodb.net:27017', 'ac-sbhdkey-shard-00-02.jkqvsli.mongodb.net:27017'], document_class=dict, tz_aware=False, connect=True, authsource='admin', replicaset='atlas-fjl7j3-shard-0', tls=True), 'my_db')"
      ]
     },
     "execution_count": 16,
     "metadata": {},
     "output_type": "execute_result"
    }
   ],
   "source": [
    "my_db = client['my_db']\n",
    "my_db"
   ]
  },
  {
   "cell_type": "markdown",
   "id": "cd8dacc3-caec-49fa-803b-4a85982c6cbe",
   "metadata": {},
   "source": [
    "Running the above cell just gives you some information about our connection to the server. We'll learn how to run queries on this connection in a bit. For now, let's see what databases we have:"
   ]
  },
  {
   "cell_type": "code",
   "execution_count": 17,
   "id": "a0f856b5-05ee-4979-a400-9843fb432e23",
   "metadata": {},
   "outputs": [
    {
     "data": {
      "text/plain": [
       "['sample_airbnb',\n",
       " 'sample_analytics',\n",
       " 'sample_geospatial',\n",
       " 'sample_guides',\n",
       " 'sample_mflix',\n",
       " 'sample_restaurants',\n",
       " 'sample_supplies',\n",
       " 'sample_training',\n",
       " 'sample_weatherdata',\n",
       " 'admin',\n",
       " 'local']"
      ]
     },
     "execution_count": 17,
     "metadata": {},
     "output_type": "execute_result"
    }
   ],
   "source": [
    "client.list_database_names()"
   ]
  },
  {
   "cell_type": "markdown",
   "id": "2cbbc5fb-0477-4957-953a-0858522ae583",
   "metadata": {},
   "source": [
    "To access collections withing each database, use the following syntax:\n",
    "\n",
    "**`mongosh`**:\n",
    "```js\n",
    "db.my_collection.method()\n",
    "```"
   ]
  },
  {
   "cell_type": "markdown",
   "id": "e2fdbc2c-0ad1-458a-84f9-56e9138a40f4",
   "metadata": {},
   "source": [
    "**`pymongo`**:"
   ]
  },
  {
   "cell_type": "code",
   "execution_count": 18,
   "id": "a4816d2b-19d7-4b48-9b08-0bc39644a179",
   "metadata": {},
   "outputs": [
    {
     "data": {
      "text/plain": [
       "Collection(Database(MongoClient(host=['ac-sbhdkey-shard-00-00.jkqvsli.mongodb.net:27017', 'ac-sbhdkey-shard-00-01.jkqvsli.mongodb.net:27017', 'ac-sbhdkey-shard-00-02.jkqvsli.mongodb.net:27017'], document_class=dict, tz_aware=False, connect=True, authsource='admin', replicaset='atlas-fjl7j3-shard-0', tls=True), 'my_db'), 'my_collection')"
      ]
     },
     "execution_count": 18,
     "metadata": {},
     "output_type": "execute_result"
    }
   ],
   "source": [
    "my_collection = my_db['my_collection']\n",
    "my_collection"
   ]
  },
  {
   "cell_type": "markdown",
   "id": "13637cc5-f42c-46e2-b83d-29a5cdbfecb0",
   "metadata": {},
   "source": [
    "Again, some information that we don't need. We will never use the database or collection objects simple like this. For now, let's take a look at the collections inside the `sample_mflix` database:"
   ]
  },
  {
   "cell_type": "code",
   "execution_count": 19,
   "id": "ab062a2b-d885-4491-9156-2b4b501f3270",
   "metadata": {},
   "outputs": [
    {
     "data": {
      "text/plain": [
       "['comments', 'movies', 'sessions', 'users', 'theaters']"
      ]
     },
     "execution_count": 19,
     "metadata": {},
     "output_type": "execute_result"
    }
   ],
   "source": [
    "client['sample_mflix'].list_collection_names()"
   ]
  },
  {
   "cell_type": "markdown",
   "id": "d4001648-05e2-432e-8258-8439c0e7cca9",
   "metadata": {},
   "source": [
    "Or alternatively:"
   ]
  },
  {
   "cell_type": "code",
   "execution_count": 20,
   "id": "ee40eb55-c3ae-4de2-97f3-b202fd796cac",
   "metadata": {},
   "outputs": [
    {
     "data": {
      "text/plain": [
       "['comments', 'movies', 'sessions', 'users', 'theaters']"
      ]
     },
     "execution_count": 20,
     "metadata": {},
     "output_type": "execute_result"
    }
   ],
   "source": [
    "client.sample_mflix.list_collection_names()"
   ]
  },
  {
   "cell_type": "markdown",
   "id": "87a05ff6",
   "metadata": {},
   "source": [
    "<br><br><br>"
   ]
  },
  {
   "cell_type": "markdown",
   "id": "72e1bbf7-4bda-4de3-852d-e864b320fe1e",
   "metadata": {},
   "source": [
    "A very important thing to know before using MQL is that\n",
    "\n",
    "> **Everything in MongoDB is a JSON-like document**\n",
    "\n",
    "even queries themselves!"
   ]
  },
  {
   "cell_type": "markdown",
   "id": "87a05ff6",
   "metadata": {},
   "source": [
    "<br><br><br>"
   ]
  },
  {
   "cell_type": "markdown",
   "id": "852bff04-e9f2-4ce7-8f64-b2242f970c3a",
   "metadata": {},
   "source": [
    "### `find`"
   ]
  },
  {
   "cell_type": "markdown",
   "id": "2c6611b2-f142-4646-9bff-33860a6bdf88",
   "metadata": {
    "jp-MarkdownHeadingCollapsed": true,
    "tags": []
   },
   "source": [
    "The main method used for querying documents is the `.find()` method. Here is an example of a query in MongoDB:\n",
    "\n",
    "**`mongosh`**:\n",
    "\n",
    "```js\n",
    "db.movies.find( {title: 'Titanic'} )\n",
    "```"
   ]
  },
  {
   "cell_type": "markdown",
   "id": "bbb959c9-b23e-44a9-b19f-c1bbf312dd64",
   "metadata": {
    "jp-MarkdownHeadingCollapsed": true,
    "tags": []
   },
   "source": [
    "**`pymongo`**:"
   ]
  },
  {
   "cell_type": "code",
   "execution_count": 21,
   "id": "5d0d33de-2580-4cab-9c7e-2ecf4f7d38d0",
   "metadata": {},
   "outputs": [
    {
     "data": {
      "text/plain": [
       "<pymongo.cursor.Cursor at 0x110b9d7d0>"
      ]
     },
     "execution_count": 21,
     "metadata": {},
     "output_type": "execute_result"
    }
   ],
   "source": [
    "client['sample_mflix']['movies'].find( filter={'title': 'Titanic'} )"
   ]
  },
  {
   "cell_type": "markdown",
   "id": "e0c15825-b19d-4ef8-9706-4a674bb6881e",
   "metadata": {},
   "source": [
    "Using `filter=` is optional in the argument list, but if you remember from Python's Zen advice, \"_explicit is better than implicit_\"."
   ]
  },
  {
   "cell_type": "markdown",
   "id": "53fcc1e3-e5b7-4ac7-9fc7-13a0a58ceac6",
   "metadata": {},
   "source": [
    "Well, the above code doesn't do anything because it returns a cursor object which is basically a Python generator. Let's return the first element of this generator:"
   ]
  },
  {
   "cell_type": "code",
   "execution_count": 22,
   "id": "e9ca14e5-5ffb-45ef-b052-ae5f898cbe12",
   "metadata": {},
   "outputs": [
    {
     "data": {
      "text/plain": [
       "{'_id': ObjectId('573a1394f29313caabcdf639'),\n",
       " 'plot': 'An unhappy married couple deal with their problems on board the ill-fated ship.',\n",
       " 'genres': ['Drama', 'History', 'Romance'],\n",
       " 'runtime': 98,\n",
       " 'rated': 'NOT RATED',\n",
       " 'cast': ['Clifton Webb',\n",
       "  'Barbara Stanwyck',\n",
       "  'Robert Wagner',\n",
       "  'Audrey Dalton'],\n",
       " 'num_mflix_comments': 0,\n",
       " 'poster': 'https://m.media-amazon.com/images/M/MV5BMTU3NTUyMTc3Nl5BMl5BanBnXkFtZTgwOTA2MDE3MTE@._V1_SY1000_SX677_AL_.jpg',\n",
       " 'title': 'Titanic',\n",
       " 'fullplot': 'Unhappily married and uncomfortable with life among the British upper crust, Julia Sturges takes her two children and boards the Titanic for America. Her husband Richard also arranges passage on the doomed luxury liner in order to let him have custody of their two children. Their problems soon seem minor when the ship hits an iceberg.',\n",
       " 'languages': ['English', 'Basque', 'French', 'Spanish'],\n",
       " 'released': datetime.datetime(1953, 7, 13, 0, 0),\n",
       " 'directors': ['Jean Negulesco'],\n",
       " 'writers': ['Charles Brackett', 'Walter Reisch', 'Richard L. Breen'],\n",
       " 'awards': {'wins': 0,\n",
       "  'nominations': 3,\n",
       "  'text': 'Won 1 Oscar. Another 2 nominations.'},\n",
       " 'lastupdated': '2015-09-16 00:00:16.593000000',\n",
       " 'year': 1953,\n",
       " 'imdb': {'rating': 7.3, 'votes': 4677, 'id': 46435},\n",
       " 'countries': ['USA'],\n",
       " 'type': 'movie',\n",
       " 'tomatoes': {'viewer': {'rating': 3.6, 'numReviews': 86400, 'meter': 65},\n",
       "  'dvd': datetime.datetime(2003, 9, 2, 0, 0),\n",
       "  'critic': {'rating': 6.7, 'numReviews': 9, 'meter': 89},\n",
       "  'lastUpdated': datetime.datetime(2015, 9, 10, 19, 15, 34),\n",
       "  'rotten': 1,\n",
       "  'production': '20th Century Fox',\n",
       "  'fresh': 8}}"
      ]
     },
     "execution_count": 22,
     "metadata": {},
     "output_type": "execute_result"
    }
   ],
   "source": [
    "next(client['sample_mflix']['movies'].find( {'title': 'Titanic'} ))"
   ]
  },
  {
   "cell_type": "markdown",
   "id": "cace64e8-5d19-4a41-8995-74a7df890241",
   "metadata": {},
   "source": [
    "Or we can pass it to `list()` to materialize the generator entirely:"
   ]
  },
  {
   "cell_type": "code",
   "execution_count": 23,
   "id": "40c6f174-d1bb-4465-844b-783af87c9e8c",
   "metadata": {},
   "outputs": [
    {
     "data": {
      "text/plain": [
       "[{'_id': ObjectId('573a1394f29313caabcdf639'),\n",
       "  'plot': 'An unhappy married couple deal with their problems on board the ill-fated ship.',\n",
       "  'genres': ['Drama', 'History', 'Romance'],\n",
       "  'runtime': 98,\n",
       "  'rated': 'NOT RATED',\n",
       "  'cast': ['Clifton Webb',\n",
       "   'Barbara Stanwyck',\n",
       "   'Robert Wagner',\n",
       "   'Audrey Dalton'],\n",
       "  'num_mflix_comments': 0,\n",
       "  'poster': 'https://m.media-amazon.com/images/M/MV5BMTU3NTUyMTc3Nl5BMl5BanBnXkFtZTgwOTA2MDE3MTE@._V1_SY1000_SX677_AL_.jpg',\n",
       "  'title': 'Titanic',\n",
       "  'fullplot': 'Unhappily married and uncomfortable with life among the British upper crust, Julia Sturges takes her two children and boards the Titanic for America. Her husband Richard also arranges passage on the doomed luxury liner in order to let him have custody of their two children. Their problems soon seem minor when the ship hits an iceberg.',\n",
       "  'languages': ['English', 'Basque', 'French', 'Spanish'],\n",
       "  'released': datetime.datetime(1953, 7, 13, 0, 0),\n",
       "  'directors': ['Jean Negulesco'],\n",
       "  'writers': ['Charles Brackett', 'Walter Reisch', 'Richard L. Breen'],\n",
       "  'awards': {'wins': 0,\n",
       "   'nominations': 3,\n",
       "   'text': 'Won 1 Oscar. Another 2 nominations.'},\n",
       "  'lastupdated': '2015-09-16 00:00:16.593000000',\n",
       "  'year': 1953,\n",
       "  'imdb': {'rating': 7.3, 'votes': 4677, 'id': 46435},\n",
       "  'countries': ['USA'],\n",
       "  'type': 'movie',\n",
       "  'tomatoes': {'viewer': {'rating': 3.6, 'numReviews': 86400, 'meter': 65},\n",
       "   'dvd': datetime.datetime(2003, 9, 2, 0, 0),\n",
       "   'critic': {'rating': 6.7, 'numReviews': 9, 'meter': 89},\n",
       "   'lastUpdated': datetime.datetime(2015, 9, 10, 19, 15, 34),\n",
       "   'rotten': 1,\n",
       "   'production': '20th Century Fox',\n",
       "   'fresh': 8}},\n",
       " {'_id': ObjectId('573a139af29313caabcefb1d'),\n",
       "  'plot': 'The story of the 1912 sinking of the largest luxury liner ever built, the tragedy that befell over two thousand of the rich and famous as well as of the poor and unknown passengers aboard the doomed ship.',\n",
       "  'genres': ['Action', 'Drama', 'History'],\n",
       "  'runtime': 173,\n",
       "  'cast': ['Peter Gallagher',\n",
       "   'George C. Scott',\n",
       "   'Catherine Zeta-Jones',\n",
       "   'Eva Marie Saint'],\n",
       "  'poster': 'https://m.media-amazon.com/images/M/MV5BYWM0MDE3OWMtMzlhZC00YzMyLThiNjItNzFhNGVhYzQ1YWM5XkEyXkFqcGdeQXVyMTczNjQwOTY@._V1_SY1000_SX677_AL_.jpg',\n",
       "  'title': 'Titanic',\n",
       "  'fullplot': \"The plot focuses on the romances of two couples upon the doomed ship's maiden voyage. Isabella Paradine (Catherine Zeta-Jones) is a wealthy woman mourning the loss of her aunt, who reignites a romance with former flame Wynn Park (Peter Gallagher). Meanwhile, a charming ne'er-do-well named Jamie Perse (Mike Doyle) steals a ticket for the ship, and falls for a sweet innocent Irish girl on board. But their romance is threatened by the villainous Simon Doonan (Tim Curry), who has discovered about the ticket and makes Jamie his unwilling accomplice, as well as having sinister plans for the girl.\",\n",
       "  'languages': ['English'],\n",
       "  'released': datetime.datetime(1996, 11, 17, 0, 0),\n",
       "  'rated': 'PG-13',\n",
       "  'awards': {'wins': 0,\n",
       "   'nominations': 9,\n",
       "   'text': 'Won 1 Primetime Emmy. Another 8 nominations.'},\n",
       "  'lastupdated': '2015-08-30 00:47:02.163000000',\n",
       "  'year': 1996,\n",
       "  'imdb': {'rating': 5.9, 'votes': 3435, 'id': 115392},\n",
       "  'countries': ['Canada', 'USA'],\n",
       "  'type': 'series',\n",
       "  'tomatoes': {'viewer': {'rating': 3.8, 'numReviews': 30909, 'meter': 71},\n",
       "   'dvd': datetime.datetime(1999, 9, 7, 0, 0),\n",
       "   'production': 'Hallmark Entertainment',\n",
       "   'lastUpdated': datetime.datetime(2015, 8, 15, 18, 12, 51)},\n",
       "  'num_mflix_comments': 0},\n",
       " {'_id': ObjectId('573a139af29313caabcf0d74'),\n",
       "  'fullplot': '84 years later, a 101-year-old woman named Rose DeWitt Bukater tells the story to her granddaughter Lizzy Calvert, Brock Lovett, Lewis Bodine, Bobby Buell and Anatoly Mikailavich on the Keldysh about her life set in April 10th 1912, on a ship called Titanic when young Rose boards the departing ship with the upper-class passengers and her mother, Ruth DeWitt Bukater, and her fiancè, Caledon Hockley. Meanwhile, a drifter and artist named Jack Dawson and his best friend Fabrizio De Rossi win third-class tickets to the ship in a game. And she explains the whole story from departure until the death of Titanic on its first and last voyage April 15th, 1912 at 2:20 in the morning.',\n",
       "  'imdb': {'rating': 7.7, 'votes': 716392, 'id': 120338},\n",
       "  'year': 1997,\n",
       "  'plot': 'A seventeen-year-old aristocrat falls in love with a kind, but poor artist aboard the luxurious, ill-fated R.M.S. Titanic.',\n",
       "  'genres': ['Drama', 'Romance'],\n",
       "  'rated': 'PG-13',\n",
       "  'metacritic': 74,\n",
       "  'title': 'Titanic',\n",
       "  'lastupdated': '2015-09-13 00:41:42.117000000',\n",
       "  'languages': ['English',\n",
       "   'French',\n",
       "   'German',\n",
       "   'Swedish',\n",
       "   'Italian',\n",
       "   'Russian'],\n",
       "  'writers': ['James Cameron'],\n",
       "  'type': 'movie',\n",
       "  'tomatoes': {'website': 'http://www.titanicmovie.com/',\n",
       "   'viewer': {'rating': 3.3, 'numReviews': 35792304, 'meter': 69},\n",
       "   'dvd': datetime.datetime(2012, 9, 10, 0, 0),\n",
       "   'critic': {'rating': 8.0, 'numReviews': 178, 'meter': 88},\n",
       "   'boxOffice': '$57.9M',\n",
       "   'consensus': 'A mostly unqualified triumph for James Cameron, who offers a dizzying blend of spectacular visuals and old-fashioned melodrama.',\n",
       "   'rotten': 21,\n",
       "   'production': 'Paramount Pictures',\n",
       "   'lastUpdated': datetime.datetime(2015, 9, 13, 17, 5, 18),\n",
       "   'fresh': 157},\n",
       "  'poster': 'https://m.media-amazon.com/images/M/MV5BMDdmZGU3NDQtY2E5My00ZTliLWIzOTUtMTY4ZGI1YjdiNjk3XkEyXkFqcGdeQXVyNTA4NzY1MzY@._V1_SY1000_SX677_AL_.jpg',\n",
       "  'num_mflix_comments': 128,\n",
       "  'released': datetime.datetime(1997, 12, 19, 0, 0),\n",
       "  'awards': {'wins': 127,\n",
       "   'nominations': 63,\n",
       "   'text': 'Won 11 Oscars. Another 116 wins & 63 nominations.'},\n",
       "  'countries': ['USA'],\n",
       "  'cast': ['Leonardo DiCaprio', 'Kate Winslet', 'Billy Zane', 'Kathy Bates'],\n",
       "  'directors': ['James Cameron'],\n",
       "  'runtime': 194}]"
      ]
     },
     "execution_count": 23,
     "metadata": {},
     "output_type": "execute_result"
    }
   ],
   "source": [
    "list(\n",
    "    client['sample_mflix']['movies'].find( {'title': 'Titanic'} )\n",
    ")"
   ]
  },
  {
   "cell_type": "markdown",
   "id": "86a8fb8d-556f-4e2b-96ec-dea2f7a11ef0",
   "metadata": {},
   "source": [
    "> **Note:** `.find( filter={} )` or `.find()` returns every document in the collection."
   ]
  },
  {
   "cell_type": "markdown",
   "id": "fa407ddf-e40a-44fb-8c37-c4998e428948",
   "metadata": {},
   "source": [
    "Note that there is another method `.findOne()` in `mongosh` and `.find_one()` in `pymongo`. This method returns only one document regardless of how many there are, according to the order in which documents are stored on the physical disk."
   ]
  },
  {
   "cell_type": "markdown",
   "id": "87a05ff6",
   "metadata": {},
   "source": [
    "<br><br><br>"
   ]
  },
  {
   "cell_type": "markdown",
   "id": "dc05e617-30b2-4227-9798-bc17f098acbd",
   "metadata": {},
   "source": [
    "### `projection`"
   ]
  },
  {
   "cell_type": "markdown",
   "id": "09f6ebfd-61b6-44d3-b095-1144eff02e67",
   "metadata": {},
   "source": [
    "Remember what projection meant in SQL? Returning a particular set of columns among all that exist in a table was called projection (of the results onto particular columns).\n",
    "\n",
    "Projection has a similar meaning in NoSQL: it means explicitly choosing the fields that we are interested in, instead of all fields that are returned by default. This is done by feeding a list of fields to the `projection=` argument, as well as a truthy of falsy value that indicates whether or not that field should be included."
   ]
  },
  {
   "cell_type": "markdown",
   "id": "ef2ffc97-26d1-4a72-81b3-c06b129d426b",
   "metadata": {},
   "source": [
    "For example, here I return the `title` and `year` fields only from the document in the result:"
   ]
  },
  {
   "cell_type": "markdown",
   "id": "345175fb-c162-4d2a-b963-b95442f3596a",
   "metadata": {},
   "source": [
    "**`mongosh`**:\n",
    "```js\n",
    "db.movies.find( {title: 'Titanic'}, {'title': 1, 'year': 1} )\n",
    "```"
   ]
  },
  {
   "cell_type": "markdown",
   "id": "40d30eac-0d1d-41c4-bd58-a3a5d0f122ea",
   "metadata": {},
   "source": [
    "**`pymongo`**:"
   ]
  },
  {
   "cell_type": "code",
   "execution_count": 24,
   "id": "8d9af62e-07f5-4c00-87f6-80bb594d9c57",
   "metadata": {},
   "outputs": [
    {
     "data": {
      "text/plain": [
       "[{'_id': ObjectId('573a1394f29313caabcdf639'),\n",
       "  'title': 'Titanic',\n",
       "  'year': 1953},\n",
       " {'_id': ObjectId('573a139af29313caabcefb1d'),\n",
       "  'title': 'Titanic',\n",
       "  'year': 1996},\n",
       " {'_id': ObjectId('573a139af29313caabcf0d74'),\n",
       "  'year': 1997,\n",
       "  'title': 'Titanic'}]"
      ]
     },
     "execution_count": 24,
     "metadata": {},
     "output_type": "execute_result"
    }
   ],
   "source": [
    "list(\n",
    "    client['sample_mflix']['movies'].find(\n",
    "        filter={'title': 'Titanic'},\n",
    "        projection={'title': 1, 'year': 1}\n",
    "    )\n",
    ")"
   ]
  },
  {
   "cell_type": "markdown",
   "id": "ffebf56f-b4d7-4090-8c8c-83f945ee92e8",
   "metadata": {},
   "source": [
    "> **Note:** In `pymongo`, you can use `True` instead of `1` and `False` instead of `0`."
   ]
  },
  {
   "cell_type": "markdown",
   "id": "709ad610-8050-485f-af67-7b49fbeaefa6",
   "metadata": {},
   "source": [
    "> **Note:** In `pymongo`, we need to enclose all field names in single or double quotes (e.g. `'title'` not `title`), otherwise Python would complain because it doesn't recognize those names. In `mongosh`, this is not necessary."
   ]
  },
  {
   "cell_type": "markdown",
   "id": "ba63265f-1806-44a3-9904-e052984a0993",
   "metadata": {},
   "source": [
    "In the above returned documents, note that the primary key field, namely, the `_id` field is always returned by default unless you explicitly exclude it using `{'_id': 0}` or `{'_id': False}`. **This is the only scenario where we might mix up `1`s and `0`s (or `True`s and `False`s) in the projection field.**"
   ]
  },
  {
   "cell_type": "code",
   "execution_count": 28,
   "id": "3bed23c1-4afa-4e0f-a0ab-44b2c133b7be",
   "metadata": {},
   "outputs": [
    {
     "data": {
      "text/plain": [
       "[{'title': 'Titanic', 'year': 1953},\n",
       " {'title': 'Titanic', 'year': 1996},\n",
       " {'year': 1997, 'title': 'Titanic'}]"
      ]
     },
     "execution_count": 28,
     "metadata": {},
     "output_type": "execute_result"
    }
   ],
   "source": [
    "list(\n",
    "    client['sample_mflix']['movies'].find(\n",
    "        filter={'title': 'Titanic'},\n",
    "        projection={'_id': 0, 'title': 1, 'year': 1}\n",
    "    )\n",
    ")"
   ]
  },
  {
   "cell_type": "markdown",
   "id": "87a05ff6",
   "metadata": {},
   "source": [
    "<br><br><br>"
   ]
  },
  {
   "cell_type": "markdown",
   "id": "4c8af612-8fe9-4704-bd60-bd861f880c3a",
   "metadata": {
    "tags": []
   },
   "source": [
    "### `sort`"
   ]
  },
  {
   "cell_type": "markdown",
   "id": "9e976a4c-9494-4092-8d12-e12f3219691b",
   "metadata": {},
   "source": [
    "**`mongosh`**:\n",
    "```js\n",
    "db.movies.find(<filter>, <projection>).sort( {runtime: 1, year:-1} )\n",
    "```"
   ]
  },
  {
   "cell_type": "markdown",
   "id": "12afb7ff-9d6b-424d-80c3-4cd80322d436",
   "metadata": {},
   "source": [
    "**`pymongo`**:"
   ]
  },
  {
   "cell_type": "code",
   "execution_count": 29,
   "id": "57c6cd2c-6955-4f1b-a99a-f4422567c2fd",
   "metadata": {},
   "outputs": [
    {
     "data": {
      "text/plain": [
       "[{'runtime': 98, 'title': 'Titanic', 'year': 1953},\n",
       " {'runtime': 173, 'title': 'Titanic', 'year': 1996},\n",
       " {'year': 1997, 'title': 'Titanic', 'runtime': 194}]"
      ]
     },
     "execution_count": 29,
     "metadata": {},
     "output_type": "execute_result"
    }
   ],
   "source": [
    "list(\n",
    "    client['sample_mflix']['movies'].find(\n",
    "        filter={'title': 'Titanic'},\n",
    "        projection={'_id': 0, 'title': 1, 'year': 1, 'runtime': 1},\n",
    "        sort=[('runtime', 1), ('year', -1)]\n",
    "    )\n",
    ")"
   ]
  },
  {
   "cell_type": "markdown",
   "id": "87a05ff6",
   "metadata": {},
   "source": [
    "<br><br><br>"
   ]
  },
  {
   "cell_type": "markdown",
   "id": "2e6f8460-c59f-4ad3-b64a-f13c3e75c1e5",
   "metadata": {},
   "source": [
    "### `limit`"
   ]
  },
  {
   "cell_type": "markdown",
   "id": "21f30407-c52d-4738-b638-d177fcfaddac",
   "metadata": {},
   "source": [
    "**`mongosh`**:\n",
    "```js\n",
    "db.movies.find({}, {title: 1, _id: 0}).limit(5)\n",
    "```"
   ]
  },
  {
   "cell_type": "markdown",
   "id": "6de969f8-3ae6-4b4a-93d6-9ed162526e67",
   "metadata": {},
   "source": [
    "**`pymongo`**:"
   ]
  },
  {
   "cell_type": "code",
   "execution_count": 30,
   "id": "e4694c07-fd48-4d92-acbc-7d166e816bb2",
   "metadata": {},
   "outputs": [
    {
     "data": {
      "text/plain": [
       "[{'title': 'Blacksmith Scene'},\n",
       " {'title': 'The Great Train Robbery'},\n",
       " {'title': 'The Land Beyond the Sunset'},\n",
       " {'title': 'A Corner in Wheat'},\n",
       " {'title': 'Winsor McCay, the Famous Cartoonist of the N.Y. Herald and His Moving Comics'}]"
      ]
     },
     "execution_count": 30,
     "metadata": {},
     "output_type": "execute_result"
    }
   ],
   "source": [
    "list(\n",
    "    client['sample_mflix']['movies'].find(\n",
    "        projection={'title': 1, '_id': 0},\n",
    "        limit=5\n",
    "    )\n",
    ")"
   ]
  },
  {
   "cell_type": "markdown",
   "id": "87a05ff6",
   "metadata": {},
   "source": [
    "<br><br><br>"
   ]
  },
  {
   "cell_type": "markdown",
   "id": "0f2c2873-b4ed-41b8-8d3a-3051acd70e1f",
   "metadata": {},
   "source": [
    "### `count_documents`"
   ]
  },
  {
   "cell_type": "markdown",
   "id": "df83140e-eb74-4628-a547-352a5c0f05ea",
   "metadata": {},
   "source": [
    "**`mongosh`**:\n",
    "```js\n",
    "db.movies.countDocuments({year:2000})\n",
    "```"
   ]
  },
  {
   "cell_type": "markdown",
   "id": "aa5921f8-a988-42c3-a090-82c0af288a6b",
   "metadata": {},
   "source": [
    "**`pymongo`**:"
   ]
  },
  {
   "cell_type": "code",
   "execution_count": 35,
   "id": "db4139ea-45ad-4a31-a8be-758bc95d811b",
   "metadata": {},
   "outputs": [
    {
     "data": {
      "text/plain": [
       "618"
      ]
     },
     "execution_count": 35,
     "metadata": {},
     "output_type": "execute_result"
    }
   ],
   "source": [
    "client['sample_mflix']['movies'].count_documents(filter={'year': 2000})"
   ]
  },
  {
   "cell_type": "markdown",
   "id": "87a05ff6",
   "metadata": {},
   "source": [
    "<br><br><br>"
   ]
  },
  {
   "cell_type": "markdown",
   "id": "ae6901fd-387f-4708-8b28-c6e6b39838f9",
   "metadata": {
    "tags": []
   },
   "source": [
    "### `skip`"
   ]
  },
  {
   "cell_type": "markdown",
   "id": "4edf82c5-85ca-485a-bf73-a1584c9e6245",
   "metadata": {},
   "source": [
    "**`mongosh`**:\n",
    "```js\n",
    "db.movies.find( filter={title: 'Titanic'}, projection={'title': 1, 'year': 1} ).skip(2)\n",
    "```"
   ]
  },
  {
   "cell_type": "markdown",
   "id": "095e5187-935e-4d21-8fb1-3f94f197ac33",
   "metadata": {},
   "source": [
    "**`pymongo`**:"
   ]
  },
  {
   "cell_type": "code",
   "execution_count": 36,
   "id": "c1e3c5c8-8763-455a-8d12-bd7499307509",
   "metadata": {},
   "outputs": [
    {
     "data": {
      "text/plain": [
       "[{'_id': ObjectId('573a139af29313caabcf0d74'),\n",
       "  'year': 1997,\n",
       "  'title': 'Titanic'}]"
      ]
     },
     "execution_count": 36,
     "metadata": {},
     "output_type": "execute_result"
    }
   ],
   "source": [
    "list(\n",
    "    client['sample_mflix']['movies'].find(\n",
    "        filter={'title': 'Titanic'},\n",
    "        projection={'title': 1, 'year': 1},\n",
    "        skip=2\n",
    "    )\n",
    ")"
   ]
  },
  {
   "cell_type": "markdown",
   "id": "87a05ff6",
   "metadata": {},
   "source": [
    "<br><br><br>"
   ]
  },
  {
   "cell_type": "markdown",
   "id": "6e005238-6285-4e5e-8403-66d84b292de2",
   "metadata": {
    "tags": []
   },
   "source": [
    "### `distinct`"
   ]
  },
  {
   "cell_type": "markdown",
   "id": "8c112612-891f-46a7-829c-cbc172552581",
   "metadata": {},
   "source": [
    "**`mongosh`**:\n",
    "```js\n",
    "db.movies.distinct( 'title', {title: 'Titanic'} )\n",
    "```"
   ]
  },
  {
   "cell_type": "markdown",
   "id": "a0d5c2d0-e9f3-4ea7-88c9-d525cd0362cd",
   "metadata": {},
   "source": [
    "**`pymongo`**:"
   ]
  },
  {
   "cell_type": "code",
   "execution_count": 43,
   "id": "32ecf93e-f160-4c8b-b3f7-24761060d4dc",
   "metadata": {},
   "outputs": [
    {
     "data": {
      "text/plain": [
       "['Titanic']"
      ]
     },
     "execution_count": 43,
     "metadata": {},
     "output_type": "execute_result"
    }
   ],
   "source": [
    "list(\n",
    "    client['sample_mflix']['movies'].find(\n",
    "        filter={'title': 'Titanic'},\n",
    "        # projection={'title': 1, 'year': 1}\n",
    "    )\n",
    "    .distinct('title')\n",
    ")"
   ]
  },
  {
   "cell_type": "markdown",
   "id": "0dad6ba9-480b-44c0-918d-096d2d1b59e3",
   "metadata": {},
   "source": [
    "The `distinct` method here only returns unique **values**, not entire documents. In order to return documents that have unique values in certain fields, we need to use grouping through aggregation pipelines, which we'll learn about in the next lecture."
   ]
  }
 ],
 "metadata": {
  "kernelspec": {
   "display_name": "Python 3.11.0 ('dsci513')",
   "language": "python",
   "name": "python3"
  },
  "language_info": {
   "codemirror_mode": {
    "name": "ipython",
    "version": 3
   },
   "file_extension": ".py",
   "mimetype": "text/x-python",
   "name": "python",
   "nbconvert_exporter": "python",
   "pygments_lexer": "ipython3",
   "version": "3.11.0"
  },
  "vscode": {
   "interpreter": {
    "hash": "020375d9aeeb41ded8500965dd92c25c8dda33f089c2e03c1c8153c8d5ece307"
   }
  }
 },
 "nbformat": 4,
 "nbformat_minor": 5
}
